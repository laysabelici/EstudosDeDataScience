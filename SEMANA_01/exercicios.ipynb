{
 "cells": [
  {
   "cell_type": "code",
   "execution_count": 21,
   "metadata": {},
   "outputs": [
    {
     "name": "stdout",
     "output_type": "stream",
     "text": [
      "Digite um número: 3\n",
      "3\n",
      "Digite outro numero: 4\n",
      "4\n",
      "34\n",
      "7\n"
     ]
    }
   ],
   "source": [
    "#Pedir dois números ao usuário e realizar a soma:\n",
    "\n",
    "x = input('Digite um número: ')\n",
    "print(f'{x}')\n",
    "\n",
    "y = input('Digite outro numero: ')\n",
    "print(f'{y}')\n",
    "\n",
    "c=int(x)\n",
    "d=int(y)\n",
    "print(f'{x}{y}')\n",
    "print(c+d)"
   ]
  },
  {
   "cell_type": "code",
   "execution_count": 20,
   "metadata": {},
   "outputs": [
    {
     "name": "stdout",
     "output_type": "stream",
     "text": [
      "Digite o número inicial: 2\n",
      "2\n",
      "Digite o número final: 3\n",
      "3\n",
      "Digite a referência: 4\n",
      "4\n",
      "Essa é a distancia da referência para o inicio: 2\n",
      "Essa é a distancia da referência para o final: -1\n",
      "Se TRUE o número 4 está contido entre 2 e 3, se FALSE não está contigo:  False\n"
     ]
    }
   ],
   "source": [
    "#Calcular o intervalo entre dois números:\n",
    "\n",
    "x = input('Digite o número inicial: ')\n",
    "print(f'{x}')\n",
    "\n",
    "y = input('Digite o número final: ')\n",
    "print(f'{y}')\n",
    "\n",
    "w = input('Digite a referência: ')\n",
    "print(f'{w}')\n",
    "\n",
    "a = int(x)\n",
    "b = int(y)\n",
    "c = int(w)\n",
    "\n",
    "print('Essa é a distancia da referência para o inicio:',(c-a))\n",
    "print('Essa é a distancia da referência para o final:',(b-c))\n",
    "print(f'Se TRUE o número {c} está contido entre {a} e {b}, se FALSE não está contigo: ',(a<=c<=b))"
   ]
  },
  {
   "cell_type": "code",
   "execution_count": 38,
   "metadata": {},
   "outputs": [
    {
     "name": "stdout",
     "output_type": "stream",
     "text": [
      "Digite o dividendo: 4\n",
      "4\n",
      "Digite o divisor: 7\n",
      "7\n",
      "O resultado da divisão é: 0.5714285714285714\n",
      "Se TRUE 4 é MMC de 7, se FALSE não é MMC: False\n"
     ]
    }
   ],
   "source": [
    "#descobrir MMC\n",
    "\n",
    "x = input('Digite o dividendo: ')\n",
    "print(f'{x}')\n",
    "\n",
    "y = input('Digite o divisor: ')\n",
    "print(f'{y}')\n",
    "\n",
    "a = int(x)\n",
    "b = int(y)\n",
    "\n",
    "print(f'O resultado da divisão é:',(a/b))\n",
    "\n",
    "c=(a%b)\n",
    "\n",
    "print(f'Se TRUE {a} é MMC de {b}, se FALSE não é MMC:', c==0)"
   ]
  },
  {
   "cell_type": "code",
   "execution_count": 5,
   "metadata": {},
   "outputs": [
    {
     "name": "stdout",
     "output_type": "stream",
     "text": [
      "Digite um número: 2\n",
      "2\n",
      "Positivo!\n"
     ]
    }
   ],
   "source": [
    "#identificador de número positivo ou negativo\n",
    "x = input('Digite um número: ')\n",
    "print(f'{x}')\n",
    "\n",
    "a = int(x)\n",
    "\n",
    "if a>0:\n",
    "    print('Positivo!')\n",
    "elif a<0:\n",
    "    print('Negativo!')\n",
    "else:\n",
    "    print('Seu número é zero.')"
   ]
  },
  {
   "cell_type": "code",
   "execution_count": 14,
   "metadata": {},
   "outputs": [
    {
     "name": "stdout",
     "output_type": "stream",
     "text": [
      "Digite seu peso: 3\n",
      "3\n",
      "Digite sua altura: 3\n",
      "3\n",
      "Seu IMC é: 0.3333333333333333\n",
      "Subpeso severo\n"
     ]
    }
   ],
   "source": [
    "#IMC\n",
    "x = input('Digite seu peso: ')\n",
    "print(f'{x}')\n",
    "\n",
    "y = input('Digite sua altura: ')\n",
    "print(f'{y}')\n",
    "\n",
    "a = float(x)\n",
    "b = float(y)\n",
    "c = float(a/(b*b))\n",
    "          \n",
    "print(f'Seu IMC é:', c)\n",
    "\n",
    "if c<16:\n",
    "    print('Subpeso severo')\n",
    "elif 16<c<19.9:\n",
    "    print('Subpeso')\n",
    "elif 20<c<24.9:\n",
    "    print('Normal')\n",
    "elif 25<c<29.9:\n",
    "    print('Sobrepeso')\n",
    "elif 30<c<39.9:\n",
    "    print('Obeso')\n",
    "else:\n",
    "    print('Obeso mórbido')"
   ]
  },
  {
   "cell_type": "code",
   "execution_count": 24,
   "metadata": {},
   "outputs": [
    {
     "name": "stdout",
     "output_type": "stream",
     "text": [
      "Digite um número: 7\n",
      "7\n",
      "Impar!\n"
     ]
    }
   ],
   "source": [
    "#Par ou ímpar\n",
    "x = input('Digite um número: ')\n",
    "print(f'{x}')\n",
    "a = float(x)\n",
    "b = float(a/2)\n",
    "c = float(a%2)\n",
    "\n",
    "if c == 0:\n",
    "    print('Par!')\n",
    "else:\n",
    "    print('Impar!')"
   ]
  },
  {
   "cell_type": "code",
   "execution_count": 23,
   "metadata": {},
   "outputs": [
    {
     "name": "stdout",
     "output_type": "stream",
     "text": [
      "Digite um número A:4\n",
      "4\n",
      "Digite um número B:2\n",
      "2\n",
      "Digite um número C:6\n",
      "6\n",
      "[4, 2, 6]\n"
     ]
    }
   ],
   "source": [
    "#Crie uma lista vazia que receba 3 números do usuário\n",
    "a = input('Digite um número A:')\n",
    "print(f'{a}')\n",
    "b = input('Digite um número B:')\n",
    "print(f'{b}')\n",
    "c = input('Digite um número C:')\n",
    "print(f'{c}')\n",
    "\n",
    "d = int(a)\n",
    "e = int(b)\n",
    "f = int(c)\n",
    "\n",
    "lista = [d, e, f]\n",
    "print(lista)"
   ]
  },
  {
   "cell_type": "code",
   "execution_count": 22,
   "metadata": {},
   "outputs": [
    {
     "name": "stdout",
     "output_type": "stream",
     "text": [
      "Digite um número A:1\n",
      "1\n",
      "Digite um número B:1\n",
      "1\n",
      "Digite um número C:1\n",
      "1\n",
      "[1, 1, 1]\n"
     ]
    }
   ],
   "source": [
    "#Com a lista anterior, ordene com algum método de dir(list)\n",
    "a = input('Digite um número A:')\n",
    "print(f'{a}')\n",
    "b = input('Digite um número B:')\n",
    "print(f'{b}')\n",
    "c = input('Digite um número C:')\n",
    "print(f'{c}')\n",
    "\n",
    "d = int(a)\n",
    "e = int(b)\n",
    "f = int(c)\n",
    "\n",
    "lista = [d, e, f]\n",
    "lista.reverse()\n",
    "print(lista)"
   ]
  },
  {
   "cell_type": "code",
   "execution_count": 28,
   "metadata": {},
   "outputs": [
    {
     "name": "stdout",
     "output_type": "stream",
     "text": [
      "['r', 'i', 'f']\n"
     ]
    }
   ],
   "source": [
    "#Uma lista de palavras que as ordene inversamente\n",
    "x = ['f', 'r', 'i']\n",
    "x.sort(reverse = True)\n",
    "print(x)"
   ]
  },
  {
   "cell_type": "code",
   "execution_count": 8,
   "metadata": {},
   "outputs": [
    {
     "name": "stdout",
     "output_type": "stream",
     "text": [
      "{'cor': 'azul', 'animal': 'leão', 'país': 'Brasil'}\n"
     ]
    }
   ],
   "source": [
    "#Crie um dicionário com 3 palavras chaves\n",
    "dic = {'cor':'azul', 'animal':'leão', 'país':'Brasil'}\n",
    "print(dic)"
   ]
  },
  {
   "cell_type": "code",
   "execution_count": 25,
   "metadata": {},
   "outputs": [
    {
     "ename": "AttributeError",
     "evalue": "'dict' object has no attribute 'delete'",
     "output_type": "error",
     "traceback": [
      "\u001b[1;31m---------------------------------------------------------------------------\u001b[0m",
      "\u001b[1;31mAttributeError\u001b[0m                            Traceback (most recent call last)",
      "\u001b[1;32m<ipython-input-25-9c4f41061d1e>\u001b[0m in \u001b[0;36m<module>\u001b[1;34m\u001b[0m\n\u001b[0;32m      1\u001b[0m \u001b[1;31m#Em uma célula nova remova 1 item do dicionário\u001b[0m\u001b[1;33m\u001b[0m\u001b[1;33m\u001b[0m\u001b[1;33m\u001b[0m\u001b[0m\n\u001b[1;32m----> 2\u001b[1;33m \u001b[0mdic\u001b[0m\u001b[1;33m.\u001b[0m\u001b[0mdelete\u001b[0m\u001b[1;33m(\u001b[0m\u001b[1;33m)\u001b[0m\u001b[1;33m\u001b[0m\u001b[1;33m\u001b[0m\u001b[0m\n\u001b[0m\u001b[0;32m      3\u001b[0m \u001b[0mprint\u001b[0m\u001b[1;33m(\u001b[0m\u001b[0mdic\u001b[0m\u001b[1;33m)\u001b[0m\u001b[1;33m\u001b[0m\u001b[1;33m\u001b[0m\u001b[0m\n",
      "\u001b[1;31mAttributeError\u001b[0m: 'dict' object has no attribute 'delete'"
     ]
    }
   ],
   "source": [
    "#Em uma célula nova remova 1 item do dicionário\n",
    "dic.delete()\n",
    "print(dic)"
   ]
  },
  {
   "cell_type": "code",
   "execution_count": 26,
   "metadata": {},
   "outputs": [
    {
     "name": "stdout",
     "output_type": "stream",
     "text": [
      "{'codigo': 987654, 'mês': 'Abril', 'custo': 54, 'telefone': 123456, 'nome': 'Ana', 'data': 23}\n"
     ]
    }
   ],
   "source": [
    "#Crie um novo dicionário, armazenando-o em uma nova variável \n",
    "#e agora unifique este com outro dicionário criado anteriormente\n",
    "\n",
    "x = {'telefone':123456,'nome':'Ana','data':23}\n",
    "y = {'codigo': 987654, 'mês': 'Abril', 'custo':54}\n",
    "z = {}\n",
    "\n",
    "z.update(y)\n",
    "z.update(x)\n",
    "\n",
    "print(z)"
   ]
  },
  {
   "cell_type": "code",
   "execution_count": 6,
   "metadata": {},
   "outputs": [
    {
     "name": "stdout",
     "output_type": "stream",
     "text": [
      "Digite seu nome: laysa\n",
      "laysa\n",
      "<class 'str'>\n",
      "O nome digitado é laysa.\n",
      "<class 'dict'>\n"
     ]
    }
   ],
   "source": [
    "a = input('Digite seu nome: ')\n",
    "print(a)\n",
    "\n",
    "b = str(a)\n",
    "\n",
    "print(type(b))\n",
    "\n",
    "d = {'nome':(b)}\n",
    "\n",
    "print(f\"O nome digitado é {d['nome']}.\")\n",
    "\n",
    "print(type(d))"
   ]
  },
  {
   "cell_type": "code",
   "execution_count": 19,
   "metadata": {},
   "outputs": [
    {
     "name": "stdout",
     "output_type": "stream",
     "text": [
      "Digite um número A: 4\n",
      "Digite um número B: 5\n",
      "Digite um número C: 6\n",
      "<class 'str'>\n",
      "4 5 6\n",
      "<class 'int'>\n",
      "4\n",
      "5\n",
      "6\n",
      "7\n",
      "8\n",
      "9\n",
      "10\n"
     ]
    }
   ],
   "source": [
    "#Solicite ao usuário 3 números e printe na tela\n",
    "x = input('Digite um número A: ')\n",
    "y = input('Digite um número B: ')\n",
    "z = input('Digite um número C: ')\n",
    "\n",
    "print(type(x))\n",
    "\n",
    "a = int(x)\n",
    "b = int(y)\n",
    "c = int(z)\n",
    "\n",
    "print(a,b,c)\n",
    "print(type(a))"
   ]
  },
  {
   "cell_type": "code",
   "execution_count": 20,
   "metadata": {},
   "outputs": [
    {
     "name": "stdout",
     "output_type": "stream",
     "text": [
      "Digite um número A: 4\n",
      "Digite um número B: 7\n",
      "Digite um número C: lontra\n",
      "O número A digitado foi 4. O número B digitado foi 7. O número C digitado foi lontra.\n"
     ]
    }
   ],
   "source": [
    "#Solicite ao usuário 3 números e printe na tela\n",
    "a = input('Digite um número A: ')\n",
    "b = input('Digite um número B: ')\n",
    "c = input('Digite um número C: ')\n",
    "\n",
    "x = str(a)\n",
    "y = str(b) \n",
    "z = str(c)\n",
    "\n",
    "e = {'Número A':(x), 'Número B':(y), 'Número C':(z)}\n",
    "print(f\"O número A digitado foi {e['Número A']}. O número B digitado foi {e['Número B']}. O número C digitado foi {e['Número C']}.\")"
   ]
  },
  {
   "cell_type": "code",
   "execution_count": 22,
   "metadata": {},
   "outputs": [
    {
     "name": "stdout",
     "output_type": "stream",
     "text": [
      "Digite um número A: 2\n",
      "Digite um número B: 6\n",
      "Digite um número C: d\n",
      "O número A digitado foi 2. O número B digitado foi 6. O número C digitado foi d.\n"
     ]
    }
   ],
   "source": [
    "#Em lista STR e em DICT também é STR\n",
    "a = input('Digite um número A: ')\n",
    "b = input('Digite um número B: ')\n",
    "c = input('Digite um número C: ')\n",
    "\n",
    "e = {'Número A':(a), 'Número B':(b), 'Número C':(c)}\n",
    "print(f\"O número A digitado foi {e['Número A']}. O número B digitado foi {e['Número B']}. O número C digitado foi {e['Número C']}.\")"
   ]
  },
  {
   "cell_type": "code",
   "execution_count": 62,
   "metadata": {},
   "outputs": [
    {
     "name": "stdout",
     "output_type": "stream",
     "text": [
      "Fatorial: 5\n",
      "<class 'int'>\n",
      "O fatorial de 5 é 120\n"
     ]
    }
   ],
   "source": [
    "#Digite um número e faça seu fatorial\n",
    "from math import factorial\n",
    "n = int(input('Fatorial: '))\n",
    "print(type(n))\n",
    "f = factorial(n)\n",
    "print('O fatorial de {} é {}'.format(n,f))"
   ]
  },
  {
   "cell_type": "code",
   "execution_count": 78,
   "metadata": {},
   "outputs": [
    {
     "name": "stdout",
     "output_type": "stream",
     "text": [
      "Digite um número para calcularmos seu fatorial: 3\n",
      "Calculando 3! = 3 x 2 x 1 = 6\n"
     ]
    }
   ],
   "source": [
    "#Digite um número e faça seu fatorial\n",
    "n = int(input('Digite um número para calcularmos seu fatorial: '))\n",
    "c = n\n",
    "f = 1\n",
    "print('Calculando {}! = '.format(n), end='')\n",
    "while c>0:\n",
    "    print('{}'.format(c), end='')\n",
    "    print(' x ' if c>1 else  ' = ', end = '')\n",
    "    f *= c\n",
    "    c-=1\n",
    "print('{}'.format(f))"
   ]
  },
  {
   "cell_type": "code",
   "execution_count": 80,
   "metadata": {},
   "outputs": [
    {
     "name": "stdout",
     "output_type": "stream",
     "text": [
      "Digite um numero para calcular seu fatorial: 5\n",
      "Seu fatorial é 120.\n"
     ]
    }
   ],
   "source": [
    "n = int(input('Digite um numero para calcular seu fatorial: '))\n",
    "\n",
    "c = 0\n",
    "f = 1\n",
    "for c in range (1, n):\n",
    "    f *= n\n",
    "    n -= 1\n",
    "print('Seu fatorial é {}.'.format(f))"
   ]
  },
  {
   "cell_type": "code",
   "execution_count": 99,
   "metadata": {},
   "outputs": [
    {
     "name": "stdout",
     "output_type": "stream",
     "text": [
      "2\n",
      "3\n",
      "4\n",
      "5\n"
     ]
    }
   ],
   "source": [
    "x = 6\n",
    "for x in range (2, x):\n",
    "    print(x)"
   ]
  },
  {
   "cell_type": "code",
   "execution_count": 128,
   "metadata": {},
   "outputs": [
    {
     "name": "stdout",
     "output_type": "stream",
     "text": [
      "Digite um número A: 1\n",
      "Digite um número B: 2\n",
      "Digite um número C: 3\n",
      "Digite um número D: 4\n",
      "Digite um número E: 5\n",
      "O menor número da lista é 1.\n",
      "O maior número da lista é 5.\n"
     ]
    }
   ],
   "source": [
    "#Solicitar 5 números e dizer qual o maior e qual o menor\n",
    "a = int(input('Digite um número A: '))\n",
    "b = int(input('Digite um número B: '))\n",
    "c = int(input('Digite um número C: '))\n",
    "x = int(input('Digite um número D: '))\n",
    "y = int(input('Digite um número E: '))\n",
    "\n",
    "lista=[]\n",
    "lista.extend([a])\n",
    "lista.extend([b])\n",
    "lista.extend([c])\n",
    "lista.extend([x])\n",
    "lista.extend([y])\n",
    "\n",
    "\n",
    "print('O menor número da lista é {}.'.format(min(lista)))\n",
    "print('O maior número da lista é {}.'.format(max(lista)))"
   ]
  },
  {
   "cell_type": "code",
   "execution_count": 1,
   "metadata": {},
   "outputs": [
    {
     "name": "stdout",
     "output_type": "stream",
     "text": [
      "Informe um número: 3\n",
      "Informe um número: 6\n",
      "Informe um número: 2\n",
      "Informe um número: 5\n",
      "Informe um número: 7\n",
      "Maior: 7 | Menor: 2\n"
     ]
    }
   ],
   "source": [
    "numeros = []\n",
    "\n",
    "for x in range (1,6):\n",
    "    num = int(input(\"Informe um número: \"))\n",
    "    numeros.append(num)\n",
    "\n",
    "maior = max(numeros)\n",
    "menor = min(numeros)\n",
    "\n",
    "print(f\"Maior: {maior} | Menor: {menor}\")"
   ]
  },
  {
   "cell_type": "code",
   "execution_count": 126,
   "metadata": {},
   "outputs": [
    {
     "name": "stdout",
     "output_type": "stream",
     "text": [
      "Digite um número: 3\n",
      "Digite um número: 8\n",
      "Digite um número: 2\n",
      "Digite um número: 9\n",
      "Digite um número: 1\n",
      "Maior: 9 | Menor 1\n"
     ]
    }
   ],
   "source": [
    "lista = []\n",
    "for x in range (1,6):\n",
    "    num = int(input('Digite um número: '))\n",
    "    lista.append(num)\n",
    "    \n",
    "maior = max(lista)\n",
    "menor = min(lista)\n",
    "\n",
    "print('Maior: {} | Menor {}'.format(maior, menor))"
   ]
  },
  {
   "cell_type": "code",
   "execution_count": 1,
   "metadata": {},
   "outputs": [
    {
     "name": "stdout",
     "output_type": "stream",
     "text": [
      "Digite: 4\n",
      "Digite: 5\n",
      "Digite: 2\n",
      "Digite: 8\n",
      "Digite: 2\n",
      "[4, 5, 2, 8, 2]\n"
     ]
    }
   ],
   "source": [
    "a = []\n",
    "for x in range (1,6):\n",
    "    b = int(input('Digite: '))\n",
    "    a.append(b)\n",
    "print(a)"
   ]
  },
  {
   "cell_type": "code",
   "execution_count": null,
   "metadata": {},
   "outputs": [],
   "source": [
    "#Faça um Programa que peça dois números e imprima o maior deles.\n",
    "a = []\n",
    "\n",
    "for x in range(x,y):\n",
    "    num = int(input('Digite um número:'))\n",
    "    a.append(num)\n",
    "maior = max(a)\n",
    "menor = min(a)\n",
    "print('Maior: {} | Menor: {}'.format(maior,menor))"
   ]
  },
  {
   "cell_type": "code",
   "execution_count": null,
   "metadata": {},
   "outputs": [],
   "source": [
    "#Faça um Programa que peça um valor e mostre na tela se o valor é positivo ou negativo.\n",
    "a = []\n",
    "for x in range(x,y,1):\n",
    "    num = int(input('Digite um número: '))\n",
    "    a.append(num)\n",
    "print(a)"
   ]
  },
  {
   "cell_type": "code",
   "execution_count": null,
   "metadata": {},
   "outputs": [],
   "source": [
    "x = input('Digite um número: ')\n",
    "print(f'{x}')\n",
    "\n",
    "a = int(x)\n",
    "\n",
    "if a>0:\n",
    "    print('Positivo!')\n",
    "elif a<0:\n",
    "    print('Negativo!')\n",
    "else:\n",
    "    print('Seu número é zero.')"
   ]
  }
 ],
 "metadata": {
  "kernelspec": {
   "display_name": "Python 3",
   "language": "python",
   "name": "python3"
  },
  "language_info": {
   "codemirror_mode": {
    "name": "ipython",
    "version": 3
   },
   "file_extension": ".py",
   "mimetype": "text/x-python",
   "name": "python",
   "nbconvert_exporter": "python",
   "pygments_lexer": "ipython3",
   "version": "3.7.6"
  }
 },
 "nbformat": 4,
 "nbformat_minor": 4
}
