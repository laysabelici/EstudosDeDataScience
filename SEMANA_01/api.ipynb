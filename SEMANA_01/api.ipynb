{
 "cells": [
  {
   "cell_type": "code",
   "execution_count": 8,
   "metadata": {},
   "outputs": [
    {
     "name": "stdout",
     "output_type": "stream",
     "text": [
      "Erro: 'descripttion'\n"
     ]
    }
   ],
   "source": [
    "#API básica\n",
    "#newsapi.org\n",
    "\n",
    "import json\n",
    "import requests\n",
    "\n",
    "try:\n",
    "    req = requests.get('https://newsapi.org/v2/top-headlines?country=br&category=technology&apiKey=be8e91e06d5b42ccbcb887ccbfb001f5')\n",
    "    noticias = json.loads(req.text)\n",
    "    for news in noticias['articles']:\n",
    "        titulo = news['title']\n",
    "        link = news['url']\n",
    "        desc = news['descripttion']\n",
    "        mensagem = f'{titulo} \\n {desc} \\n{link}'\n",
    "        print(mensagem)\n",
    "        print()\n",
    "except Exception as e:\n",
    "    print(f'Erro: {e}')"
   ]
  }
 ],
 "metadata": {
  "kernelspec": {
   "display_name": "Python 3",
   "language": "python",
   "name": "python3"
  },
  "language_info": {
   "codemirror_mode": {
    "name": "ipython",
    "version": 3
   },
   "file_extension": ".py",
   "mimetype": "text/x-python",
   "name": "python",
   "nbconvert_exporter": "python",
   "pygments_lexer": "ipython3",
   "version": "3.7.6"
  }
 },
 "nbformat": 4,
 "nbformat_minor": 4
}
