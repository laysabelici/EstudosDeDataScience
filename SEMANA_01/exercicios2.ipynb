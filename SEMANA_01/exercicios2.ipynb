{
 "cells": [
  {
   "cell_type": "code",
   "execution_count": 10,
   "metadata": {},
   "outputs": [
    {
     "name": "stdout",
     "output_type": "stream",
     "text": [
      "Digite um número:3\n",
      "Digite um número:7\n",
      "Maior: 7 | Menor: 3\n"
     ]
    }
   ],
   "source": [
    "## Faça um Programa que peça dois números e imprima o maior deles.\n",
    "a = []\n",
    "\n",
    "for i in range(1,3):\n",
    "    num = int(input('Digite um número:'))\n",
    "    a.append(num)\n",
    "maior = max(a)\n",
    "menor = min(a)\n",
    "print('Maior: {} | Menor: {}'.format(maior,menor))"
   ]
  },
  {
   "cell_type": "code",
   "execution_count": 20,
   "metadata": {},
   "outputs": [
    {
     "name": "stdout",
     "output_type": "stream",
     "text": [
      "Digite um número: -6\n",
      "Negativo\n"
     ]
    }
   ],
   "source": [
    "#Faça um Programa que peça um valor e mostre na tela se o valor é positivo ou negativo.\n",
    "a=[]\n",
    "for x in range(1,2):\n",
    "    a = int(input('Digite um número: '))\n",
    "    if a>0:\n",
    "        print('Positivo')\n",
    "    elif a<0:\n",
    "        print('Negativo')\n",
    "    else:\n",
    "        print('Zero')"
   ]
  },
  {
   "cell_type": "code",
   "execution_count": 25,
   "metadata": {},
   "outputs": [
    {
     "name": "stdout",
     "output_type": "stream",
     "text": [
      "Digite 1 se seu sexo foi feminino e 2 se for masculino: 1\n",
      "Fem\n"
     ]
    }
   ],
   "source": [
    "#Faça um Programa que verifique se uma letra digitada é \"F\" ou \"M\". \n",
    "#Conforme a letra escrever: F - Feminino, M - Masculino, Sexo Inválido.\n",
    "b = []\n",
    "for x in range(1,2):\n",
    "    b = int(input('Digite 1 se seu sexo foi feminino e 2 se for masculino: '))\n",
    "    if b == 1:\n",
    "        print('Fem')\n",
    "    elif b == 2:\n",
    "        print('Mas')\n",
    "    else:\n",
    "        print('Erro')"
   ]
  },
  {
   "cell_type": "code",
   "execution_count": 49,
   "metadata": {},
   "outputs": [
    {
     "name": "stdout",
     "output_type": "stream",
     "text": [
      "<class 'list'>\n",
      "Digite uma letra: f\n",
      "<class 'str'>\n",
      "Consoante\n"
     ]
    }
   ],
   "source": [
    "#Faça um Programa que verifique se uma letra digitada é vogal ou consoante.\n",
    "vogais = ['a','e','i','o','u']\n",
    "print(type(vogais))\n",
    "letra = input('Digite uma letra: ')\n",
    "print(type(letra))\n",
    "\n",
    "if letra == 'a' or letra=='e' or letra=='i' or letra=='o' or letra=='u':\n",
    "    print('Vogal')\n",
    "    \n",
    "else:\n",
    "    print('Consoante')\n",
    "    "
   ]
  },
  {
   "cell_type": "code",
   "execution_count": 63,
   "metadata": {},
   "outputs": [
    {
     "name": "stdout",
     "output_type": "stream",
     "text": [
      "Reprovou. Sua nota é: 6.0\n"
     ]
    }
   ],
   "source": [
    "#Faça um Programa que peça as 4 notas bimestrais e mostre a média.\n",
    "class Notas:\n",
    "    def __init__(self, n1=int, n2=int, n3=int, n4=int):\n",
    "        self.nota1=n1\n",
    "        self.nota2=n2\n",
    "        self.nota3=n3\n",
    "        self.nota4=n4\n",
    "    def media(self):\n",
    "        self.media=(self.nota1+self.nota2+self.nota3+self.nota4)/4\n",
    "    def verificar(self):\n",
    "        if self.media>7:\n",
    "            print('Passou, sua nota é: {}'.format(self.media))\n",
    "        else:\n",
    "            print('Reprovou. Sua nota é: {}'.format(self.media))\n",
    "\n",
    "a = Notas(3,4,9,8)\n",
    "\n",
    "a.media()\n",
    "a.verificar()"
   ]
  },
  {
   "cell_type": "code",
   "execution_count": 71,
   "metadata": {},
   "outputs": [
    {
     "name": "stdout",
     "output_type": "stream",
     "text": [
      "N1: 3\n",
      "N2: 3\n",
      "N3: 3\n",
      "N4: 3\n",
      "Reprovado. Sua média é 3.0.\n"
     ]
    }
   ],
   "source": [
    "#Faça um Programa que peça as 4 notas bimestrais e mostre a média.\n",
    "n1 = float(input('N1: '))\n",
    "n2 = float(input('N2: '))\n",
    "n3 = float(input('N3: '))\n",
    "n4 = float(input('N4: '))\n",
    "\n",
    "media=[]\n",
    "media = (n1+n2+n3+n4)/4\n",
    "\n",
    "if media>7:\n",
    "    print('Aprovado. Sua média é {}.'.format(media))\n",
    "else:\n",
    "    print('Reprovado. Sua média é {}.'.format(media))"
   ]
  },
  {
   "cell_type": "code",
   "execution_count": 73,
   "metadata": {},
   "outputs": [
    {
     "name": "stdout",
     "output_type": "stream",
     "text": [
      "Metros: 7\n",
      "700.0\n"
     ]
    }
   ],
   "source": [
    "#Faça um Programa que converta metros para centímetros.\n",
    "m = float(input('Metros: '))\n",
    "cm =[]\n",
    "cm = m*100\n",
    "print(cm)"
   ]
  },
  {
   "cell_type": "code",
   "execution_count": 78,
   "metadata": {},
   "outputs": [
    {
     "name": "stdout",
     "output_type": "stream",
     "text": [
      "Raio: 3\n",
      "A área do circulo é: 28.26 cm.\n"
     ]
    }
   ],
   "source": [
    "#Faça um Programa que peça o raio de um círculo, calcule e mostre sua área.\n",
    "r = float(input('Raio: '))\n",
    "a = []\n",
    "a = 3.14*(r**2)\n",
    "print(f'A área do circulo é: {a} cm.')"
   ]
  },
  {
   "cell_type": "code",
   "execution_count": 85,
   "metadata": {},
   "outputs": [
    {
     "name": "stdout",
     "output_type": "stream",
     "text": [
      "Digite um número: 4\n",
      "Digite um número: 9\n",
      "Digite um número: 7\n",
      "Maior: 9.0 | Menor: 4.0\n"
     ]
    }
   ],
   "source": [
    "# Faça um Programa que leia três números e mostre o maior deles.\n",
    "a=[]\n",
    "for i in range(0,3):\n",
    "    num = float(input('Digite um número: '))\n",
    "    a.append(num)\n",
    "\n",
    "maior = max(a)\n",
    "menor = min(a)\n",
    "print('Maior: {} | Menor: {}'.format(maior, menor))\n"
   ]
  },
  {
   "cell_type": "code",
   "execution_count": 93,
   "metadata": {},
   "outputs": [
    {
     "name": "stdout",
     "output_type": "stream",
     "text": [
      "Preço: 5\n",
      "Preço: 7\n",
      "Preço: 3\n",
      "Compre o produto que custa 3.\n"
     ]
    }
   ],
   "source": [
    "#Faça um programa que pergunte o preço de três produtos e informe qual produto você deve comprar, \n",
    "#sabendo que a decisão é sempre pelo mais barato.\n",
    "\n",
    "a=[]\n",
    "for i in range(0,3):\n",
    "    prod = int(input('Preço: '))\n",
    "    a.append(prod)\n",
    "menor = min(a)\n",
    "print('Compre o produto que custa {}.'.format(menor))"
   ]
  },
  {
   "cell_type": "code",
   "execution_count": 115,
   "metadata": {},
   "outputs": [
    {
     "name": "stdout",
     "output_type": "stream",
     "text": [
      "Numero: 1\n",
      "Numero: 2\n",
      "Numero: 3\n",
      "[3, 1, 2]\n"
     ]
    }
   ],
   "source": [
    "# Faça um Programa que leia três números e mostre-os em ordem decrescente.\n",
    "j = []\n",
    "for i in range (1,4):\n",
    "    num = int(input('Numero: '))\n",
    "    j.append(num)\n",
    "    j.reverse()\n",
    "print(j)"
   ]
  },
  {
   "cell_type": "code",
   "execution_count": null,
   "metadata": {},
   "outputs": [],
   "source": [
    "#Faça um Programa que pergunte em que turno você estuda.\n",
    "#Peça para digitar M-matutino ou V-Vespertino ou N- Noturno.\n",
    "#Imprima a mensagem \"Bom Dia!\", \"Boa Tarde!\" ou \"Boa Noite!\" ou \"Valor Inválido!\", conforme o caso.\n",
    "m=1\n",
    "v=2\n",
    "n=3\n"
   ]
  },
  {
   "cell_type": "code",
   "execution_count": 3,
   "metadata": {},
   "outputs": [
    {
     "name": "stdout",
     "output_type": "stream",
     "text": [
      "A\n",
      "B\n",
      "C\n",
      "AB\n",
      "AC\n",
      "BA\n",
      "BC\n",
      "CA\n",
      "CB\n",
      "ABC\n",
      "ACB\n",
      "BAC\n",
      "BCA\n",
      "CAB\n",
      "CBA\n"
     ]
    }
   ],
   "source": [
    "from itertools import permutations\n",
    " \n",
    "def words(letters):\n",
    "    for n in range(1, len(letters)+1):\n",
    "        yield from map(''.join, permutations(letters, n))\n",
    " \n",
    "for word in words('ABC'):\n",
    "    print(word)\n"
   ]
  },
  {
   "cell_type": "code",
   "execution_count": 10,
   "metadata": {},
   "outputs": [],
   "source": [
    "#Faça um programa para imprimir:\n",
    "def exercicio_1(n):\n",
    "    for i in range(n):\n",
    "        i += 1\n",
    "        print(i) * i"
   ]
  }
 ],
 "metadata": {
  "kernelspec": {
   "display_name": "Python 3",
   "language": "python",
   "name": "python3"
  },
  "language_info": {
   "codemirror_mode": {
    "name": "ipython",
    "version": 3
   },
   "file_extension": ".py",
   "mimetype": "text/x-python",
   "name": "python",
   "nbconvert_exporter": "python",
   "pygments_lexer": "ipython3",
   "version": "3.7.6"
  }
 },
 "nbformat": 4,
 "nbformat_minor": 4
}
