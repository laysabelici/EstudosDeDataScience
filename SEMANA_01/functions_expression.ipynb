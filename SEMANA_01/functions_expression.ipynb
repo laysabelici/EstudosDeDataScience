{
 "cells": [
  {
   "cell_type": "code",
   "execution_count": 1,
   "metadata": {},
   "outputs": [],
   "source": [
    "#Funções orientadas a expressões"
   ]
  },
  {
   "cell_type": "code",
   "execution_count": 4,
   "metadata": {},
   "outputs": [
    {
     "name": "stdout",
     "output_type": "stream",
     "text": [
      "4\n"
     ]
    }
   ],
   "source": [
    "#Lambda(função, sequência)\n",
    "#Cria função de forma rápida e anônima, sem o 'def'\n",
    "raiz = lambda x : x ** 2\n",
    "print(raiz(2))"
   ]
  },
  {
   "cell_type": "code",
   "execution_count": 20,
   "metadata": {},
   "outputs": [
    {
     "name": "stdout",
     "output_type": "stream",
     "text": [
      "[1, 2, 3, 4, 5]\n",
      "<map object at 0x000002A0A5E91408>\n",
      "[1, 4, 9, 16, 25]\n"
     ]
    }
   ],
   "source": [
    "#Map(função, sequência)\n",
    "#mapeia e aplica uma função a todos os elementos da sequência\n",
    "seq = [1,2,3,4,5]\n",
    "print(list(seq))\n",
    "print((map(lambda x:x**2 , seq)))\n",
    "print(list(map(lambda x:x**2, seq)))"
   ]
  },
  {
   "cell_type": "code",
   "execution_count": 22,
   "metadata": {},
   "outputs": [
    {
     "data": {
      "text/plain": [
       "120"
      ]
     },
     "execution_count": 22,
     "metadata": {},
     "output_type": "execute_result"
    }
   ],
   "source": [
    "#Reduce(função, sequência)\n",
    "#aplica a sequência a uma função e reduz a um unico valor final\n",
    "from functools import reduce\n",
    "reduce ((lambda x,y:x*y), [1,2,3,4,5])"
   ]
  },
  {
   "cell_type": "code",
   "execution_count": 24,
   "metadata": {},
   "outputs": [
    {
     "name": "stdout",
     "output_type": "stream",
     "text": [
      "[-5, -4, -3, -2, -1]\n"
     ]
    }
   ],
   "source": [
    "#Filter\n",
    "#filtra os elementos da sequência que retornarem TRUE\n",
    "seq = range(-5,5)\n",
    "negativos = list(filter(lambda x: x<0, seq))\n",
    "print(negativos)"
   ]
  },
  {
   "cell_type": "code",
   "execution_count": 29,
   "metadata": {},
   "outputs": [
    {
     "name": "stdout",
     "output_type": "stream",
     "text": [
      "[0, 3, 6, 9, 12, 15, 18, 21, 24, 27]\n"
     ]
    }
   ],
   "source": [
    "#List Comprehesion\n",
    "#performance mais alta que o FOR\n",
    "#desenvolve loops de repetição dentro da sequência\n",
    "mlt = [i for i in range(30) if i%3==0]\n",
    "print(mlt)"
   ]
  },
  {
   "cell_type": "code",
   "execution_count": 32,
   "metadata": {},
   "outputs": [
    {
     "name": "stdout",
     "output_type": "stream",
     "text": [
      "[(1, 'um'), (2, 'dois'), (3, 'três')]\n"
     ]
    }
   ],
   "source": [
    "#zp\n",
    "#zipa duas sequências, retornando apenas uma\n",
    "#com número de elementos da menor\n",
    "seq1 = [1,2,3]\n",
    "seq2 = ['um', 'dois', 'três']\n",
    "zipados = list(zip(seq1, seq2))\n",
    "print(zipados)"
   ]
  },
  {
   "cell_type": "code",
   "execution_count": 34,
   "metadata": {},
   "outputs": [
    {
     "name": "stdout",
     "output_type": "stream",
     "text": [
      "(0, 1)\n",
      "(1, 2)\n",
      "(2, 3)\n",
      "(3, 4)\n"
     ]
    }
   ],
   "source": [
    "#Enumerate\n",
    "#númera os valores com o indice de cada valor\n",
    "seq3 = [1,2,3,4]\n",
    "for x in enumerate(seq3):\n",
    "    print(x)"
   ]
  },
  {
   "cell_type": "code",
   "execution_count": 36,
   "metadata": {},
   "outputs": [
    {
     "name": "stdout",
     "output_type": "stream",
     "text": [
      "A\n",
      "B\n",
      "C\n",
      "AB\n",
      "AC\n",
      "BA\n",
      "BC\n",
      "CA\n",
      "CB\n",
      "ABC\n",
      "ACB\n",
      "BAC\n",
      "BCA\n",
      "CAB\n",
      "CBA\n"
     ]
    }
   ],
   "source": [
    "from itertools import permutations\n",
    " \n",
    "def words(letters):\n",
    "    for n in range(1, len(letters)+1):\n",
    "        yield from map(''.join, permutations(letters, n))\n",
    " \n",
    "for word in words('ABC'):\n",
    "    print(word)"
   ]
  },
  {
   "cell_type": "code",
   "execution_count": null,
   "metadata": {},
   "outputs": [],
   "source": []
  },
  {
   "cell_type": "code",
   "execution_count": null,
   "metadata": {},
   "outputs": [],
   "source": []
  }
 ],
 "metadata": {
  "kernelspec": {
   "display_name": "Python 3",
   "language": "python",
   "name": "python3"
  },
  "language_info": {
   "codemirror_mode": {
    "name": "ipython",
    "version": 3
   },
   "file_extension": ".py",
   "mimetype": "text/x-python",
   "name": "python",
   "nbconvert_exporter": "python",
   "pygments_lexer": "ipython3",
   "version": "3.7.6"
  }
 },
 "nbformat": 4,
 "nbformat_minor": 4
}
