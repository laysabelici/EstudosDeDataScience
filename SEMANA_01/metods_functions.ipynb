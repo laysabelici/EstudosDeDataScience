{
 "cells": [
  {
   "cell_type": "code",
   "execution_count": 2,
   "metadata": {},
   "outputs": [],
   "source": [
    "#Métodos e funções avançado"
   ]
  },
  {
   "cell_type": "code",
   "execution_count": 3,
   "metadata": {},
   "outputs": [],
   "source": [
    "#Funções\n",
    "#Podem ter parametros ou não, podendo devolver ou não\n",
    "#quaisquer dados pois funções não lidam com classes e conceitos de instâncias"
   ]
  },
  {
   "cell_type": "code",
   "execution_count": 4,
   "metadata": {},
   "outputs": [
    {
     "ename": "SyntaxError",
     "evalue": "unexpected EOF while parsing (<ipython-input-4-1234032acfa5>, line 3)",
     "output_type": "error",
     "traceback": [
      "\u001b[1;36m  File \u001b[1;32m\"<ipython-input-4-1234032acfa5>\"\u001b[1;36m, line \u001b[1;32m3\u001b[0m\n\u001b[1;33m    #insira sua função\u001b[0m\n\u001b[1;37m                      ^\u001b[0m\n\u001b[1;31mSyntaxError\u001b[0m\u001b[1;31m:\u001b[0m unexpected EOF while parsing\n"
     ]
    }
   ],
   "source": [
    "#Estruturas básicas de uma função\n",
    "def SuaFuncao(a,b):\n",
    "    #insira sua função"
   ]
  },
  {
   "cell_type": "code",
   "execution_count": 6,
   "metadata": {},
   "outputs": [],
   "source": [
    "def Subtrair(a,b):\n",
    "    return a-b"
   ]
  },
  {
   "cell_type": "code",
   "execution_count": 8,
   "metadata": {},
   "outputs": [
    {
     "data": {
      "text/plain": [
       "99"
      ]
     },
     "execution_count": 8,
     "metadata": {},
     "output_type": "execute_result"
    }
   ],
   "source": [
    "Subtrair(100,1)"
   ]
  },
  {
   "cell_type": "code",
   "execution_count": 10,
   "metadata": {},
   "outputs": [],
   "source": [
    "#Métodos: todo método é uma função\n",
    "#ele precisa estar extanciado em uma classe"
   ]
  },
  {
   "cell_type": "code",
   "execution_count": 12,
   "metadata": {},
   "outputs": [
    {
     "ename": "SyntaxError",
     "evalue": "unexpected EOF while parsing (<ipython-input-12-4845c2342417>, line 3)",
     "output_type": "error",
     "traceback": [
      "\u001b[1;36m  File \u001b[1;32m\"<ipython-input-12-4845c2342417>\"\u001b[1;36m, line \u001b[1;32m3\u001b[0m\n\u001b[1;33m    def SeuMetodo(self):\u001b[0m\n\u001b[1;37m                        ^\u001b[0m\n\u001b[1;31mSyntaxError\u001b[0m\u001b[1;31m:\u001b[0m unexpected EOF while parsing\n"
     ]
    }
   ],
   "source": [
    "##Estrutura básica de um método em PY\n",
    "class SuaClasse:\n",
    "    def SeuMetodo(self):"
   ]
  },
  {
   "cell_type": "code",
   "execution_count": 14,
   "metadata": {},
   "outputs": [
    {
     "name": "stdout",
     "output_type": "stream",
     "text": [
      "['__add__', '__class__', '__contains__', '__delattr__', '__dir__', '__doc__', '__eq__', '__format__', '__ge__', '__getattribute__', '__getitem__', '__getnewargs__', '__gt__', '__hash__', '__init__', '__init_subclass__', '__iter__', '__le__', '__len__', '__lt__', '__mod__', '__mul__', '__ne__', '__new__', '__reduce__', '__reduce_ex__', '__repr__', '__rmod__', '__rmul__', '__setattr__', '__sizeof__', '__str__', '__subclasshook__', 'capitalize', 'casefold', 'center', 'count', 'encode', 'endswith', 'expandtabs', 'find', 'format', 'format_map', 'index', 'isalnum', 'isalpha', 'isascii', 'isdecimal', 'isdigit', 'isidentifier', 'islower', 'isnumeric', 'isprintable', 'isspace', 'istitle', 'isupper', 'join', 'ljust', 'lower', 'lstrip', 'maketrans', 'partition', 'replace', 'rfind', 'rindex', 'rjust', 'rpartition', 'rsplit', 'rstrip', 'split', 'splitlines', 'startswith', 'strip', 'swapcase', 'title', 'translate', 'upper', 'zfill']\n"
     ]
    }
   ],
   "source": [
    "#dir() retorna a lista de todos métodos\n",
    "#atribuidos do objeto solicitado\n",
    "x = 'OLÁ EU SOU UMA STRING'\n",
    "print(dir(x))"
   ]
  },
  {
   "cell_type": "code",
   "execution_count": 16,
   "metadata": {},
   "outputs": [
    {
     "name": "stdout",
     "output_type": "stream",
     "text": [
      "Help on method_descriptor:\n",
      "\n",
      "lower(self, /)\n",
      "    Return a copy of the string converted to lowercase.\n",
      "\n"
     ]
    }
   ],
   "source": [
    "#Help+método retorna o conceito e aplicação de método inserido\n",
    "help(str.lower)"
   ]
  },
  {
   "cell_type": "code",
   "execution_count": 18,
   "metadata": {},
   "outputs": [
    {
     "name": "stdout",
     "output_type": "stream",
     "text": [
      "olá, eu sou uma string\n"
     ]
    }
   ],
   "source": [
    "#Depois de listar os métodos com dir() e ler a documentação\n",
    "#do mesmo, com help() é hora de testar\n",
    "print(x.lower())"
   ]
  },
  {
   "cell_type": "code",
   "execution_count": 22,
   "metadata": {},
   "outputs": [
    {
     "name": "stdout",
     "output_type": "stream",
     "text": [
      "Asus 8gb GTX\n",
      "DELL b GTX\n",
      "Acer 1gb read\n"
     ]
    }
   ],
   "source": [
    "#class\n",
    "#sintaxe\n",
    "#Marca, Memória RAm, Placa de video\n",
    "class Computador:\n",
    "    def __init__(self, marca, memoria_ram, placa_de_video):\n",
    "        self.marca=marca\n",
    "        self.memoria_ram=memoria_ram\n",
    "        self.placa_de_video=placa_de_video\n",
    "    pass\n",
    "\n",
    "computador1 = Computador('Asus', '8gb','GTX')\n",
    "computador2 = Computador('DELL','b','GTX')\n",
    "computador3 = Computador('Acer','1gb','read')\n",
    "print(computador1.marca, computador1.memoria_ram, computador1.placa_de_video)\n",
    "print(computador2.marca, computador2.memoria_ram, computador2.placa_de_video)\n",
    "print(computador3.marca, computador3.memoria_ram, computador3.placa_de_video)"
   ]
  },
  {
   "cell_type": "code",
   "execution_count": 1,
   "metadata": {},
   "outputs": [
    {
     "name": "stdout",
     "output_type": "stream",
     "text": [
      "estou ligando o computador\n",
      "estou desligando o computador\n",
      "Asus 16gb GTX\n"
     ]
    }
   ],
   "source": [
    "class Computador:\n",
    "    def __init__(self, marca, memoria_ram, placa_de_video):\n",
    "        self.marca = marca\n",
    "        self.memoria_ram = memoria_ram\n",
    "        self.placa_de_video = placa_de_video\n",
    "        \n",
    "        \n",
    "    def Ligar(self):\n",
    "        print('estou ligando o computador')\n",
    "        \n",
    "    def Desligar(self):\n",
    "        print('estou desligando o computador')\n",
    "        \n",
    "    def ExibirInformacoes(self):\n",
    "        print(self.marca, self.memoria_ram, self.placa_de_video)\n",
    "        \n",
    "#Ligar, Desligar, Exibir\n",
    "\n",
    "computador1 = Computador('Asus', '16gb', 'GTX')\n",
    "computador1.Ligar()\n",
    "computador1.Desligar()\n",
    "computador1.ExibirInformacoes()"
   ]
  },
  {
   "cell_type": "code",
   "execution_count": 3,
   "metadata": {},
   "outputs": [
    {
     "name": "stdout",
     "output_type": "stream",
     "text": [
      "11\n"
     ]
    }
   ],
   "source": [
    "def teste (v,i):\n",
    "    valor = v\n",
    "    incremento = i\n",
    "    resultado = valor + incremento\n",
    "    return resultado\n",
    "a = teste(10,1)\n",
    "print(a)"
   ]
  },
  {
   "cell_type": "code",
   "execution_count": 11,
   "metadata": {},
   "outputs": [
    {
     "name": "stdout",
     "output_type": "stream",
     "text": [
      "11\n",
      "11\n"
     ]
    }
   ],
   "source": [
    "#classe e método\n",
    "\n",
    "class DidaticaTech:\n",
    "    def incrementa(self, v, i):\n",
    "        valor = v\n",
    "        incremento = i\n",
    "        resultado = valor + incremento\n",
    "        return resultado\n",
    "a = DidaticaTech()\n",
    "#objeto A é uma classe\n",
    "\n",
    "b = a.incrementa(10,1)\n",
    "print(b)\n",
    "#objeto B é a aplicação do objeto que pertence a uma classe\n",
    "\n",
    "a = DidaticaTech().incrementa(10,1)\n",
    "print(a)"
   ]
  },
  {
   "cell_type": "code",
   "execution_count": 21,
   "metadata": {},
   "outputs": [
    {
     "name": "stdout",
     "output_type": "stream",
     "text": [
      "12\n"
     ]
    },
    {
     "data": {
      "text/plain": [
       "10"
      ]
     },
     "execution_count": 21,
     "metadata": {},
     "output_type": "execute_result"
    }
   ],
   "source": [
    "#self é como se fosse dele mesmo\n",
    "class DidaticaTech:\n",
    "    def incrementa(self, v, i):\n",
    "        self.valor = v\n",
    "        self.incremento = i\n",
    "        self.resultado = self.valor + self.incremento\n",
    "        return self.resultado\n",
    "a = DidaticaTech()\n",
    "b = a.incrementa(10,2)\n",
    "print(b)\n",
    "a.valor"
   ]
  },
  {
   "cell_type": "code",
   "execution_count": 60,
   "metadata": {},
   "outputs": [
    {
     "data": {
      "text/plain": [
       "14"
      ]
     },
     "execution_count": 60,
     "metadata": {},
     "output_type": "execute_result"
    }
   ],
   "source": [
    "#__init__ método construtor define atributos no inicio\n",
    "class DidaticaTech:\n",
    "    def __init__(self, v:int, i:int):\n",
    "        self.valor = v\n",
    "        self.incremento = i\n",
    "    def incrementa (self):\n",
    "        self.valor = self.valor + self.incremento\n",
    "a = DidaticaTech(10,4)\n",
    "a.incrementa()\n",
    "a.valor"
   ]
  },
  {
   "cell_type": "code",
   "execution_count": 40,
   "metadata": {},
   "outputs": [
    {
     "data": {
      "text/plain": [
       "26"
      ]
     },
     "execution_count": 40,
     "metadata": {},
     "output_type": "execute_result"
    }
   ],
   "source": [
    "a.incrementa()\n",
    "a.valor"
   ]
  },
  {
   "cell_type": "code",
   "execution_count": 35,
   "metadata": {},
   "outputs": [
    {
     "data": {
      "text/plain": [
       "12"
      ]
     },
     "execution_count": 35,
     "metadata": {},
     "output_type": "execute_result"
    }
   ],
   "source": [
    "b = DidaticaTech(12,5)\n",
    "b.valor"
   ]
  },
  {
   "cell_type": "code",
   "execution_count": 41,
   "metadata": {},
   "outputs": [
    {
     "data": {
      "text/plain": [
       "32"
      ]
     },
     "execution_count": 41,
     "metadata": {},
     "output_type": "execute_result"
    }
   ],
   "source": [
    "b.incrementa()\n",
    "b.valor"
   ]
  },
  {
   "cell_type": "code",
   "execution_count": 81,
   "metadata": {},
   "outputs": [],
   "source": [
    "class DidaticaTech:\n",
    "    def __init__(self, v=10, i=1):\n",
    "        self.valor = v\n",
    "        self.incremento = i\n",
    "    def incrementa(self):\n",
    "        self.valor = self.valor + self.incremento\n",
    "a = DidaticaTech()\n",
    "a.incrementa()"
   ]
  },
  {
   "cell_type": "code",
   "execution_count": null,
   "metadata": {},
   "outputs": [],
   "source": [
    "#Depois de instanciarmos a = DidaticaTech(), quando executamos,\n",
    "#o que o interpretador está fazendo é>\n",
    "#DidaticaTech().incremento(a,10,1)"
   ]
  },
  {
   "cell_type": "code",
   "execution_count": 90,
   "metadata": {},
   "outputs": [
    {
     "data": {
      "text/plain": [
       "11"
      ]
     },
     "execution_count": 90,
     "metadata": {},
     "output_type": "execute_result"
    }
   ],
   "source": [
    "class DidaticaTech:\n",
    "    def __init__(self, v=10, i=1):\n",
    "        self.valor=v\n",
    "        self.incremento=i\n",
    "        self.valor_exp=v\n",
    "    def incrementa(self):\n",
    "        self.valor = self.valor + self.incremento\n",
    "    def verifica(self):\n",
    "        if self.valor>12:\n",
    "            print('Ultrapassou 12')\n",
    "        else:\n",
    "            print('Não ultrapassou 12')\n",
    "    def exponencial(self, e):\n",
    "        self.valor_exp = self.valor**e\n",
    "    def incrementa_quad(self):\n",
    "        self.incrementa()\n",
    "        self.exponencial(2)\n",
    "a = DidaticaTech()\n",
    "a.incrementa()\n",
    "a.valor"
   ]
  },
  {
   "cell_type": "code",
   "execution_count": 91,
   "metadata": {},
   "outputs": [
    {
     "name": "stdout",
     "output_type": "stream",
     "text": [
      "Não ultrapassou 12\n"
     ]
    }
   ],
   "source": [
    "a.verifica()"
   ]
  },
  {
   "cell_type": "code",
   "execution_count": 94,
   "metadata": {},
   "outputs": [
    {
     "data": {
      "text/plain": [
       "1331"
      ]
     },
     "execution_count": 94,
     "metadata": {},
     "output_type": "execute_result"
    }
   ],
   "source": [
    "#valor_exp é atributo\n",
    "a.exponencial(3)\n",
    "a.valor_exp"
   ]
  },
  {
   "cell_type": "code",
   "execution_count": 98,
   "metadata": {},
   "outputs": [
    {
     "data": {
      "text/plain": [
       "15"
      ]
     },
     "execution_count": 98,
     "metadata": {},
     "output_type": "execute_result"
    }
   ],
   "source": [
    "a.incrementa_quad()\n",
    "a.valor"
   ]
  },
  {
   "cell_type": "code",
   "execution_count": 100,
   "metadata": {},
   "outputs": [
    {
     "data": {
      "text/plain": [
       "225"
      ]
     },
     "execution_count": 100,
     "metadata": {},
     "output_type": "execute_result"
    }
   ],
   "source": [
    "a.valor_exp"
   ]
  },
  {
   "cell_type": "code",
   "execution_count": 105,
   "metadata": {},
   "outputs": [
    {
     "data": {
      "text/plain": [
       "121"
      ]
     },
     "execution_count": 105,
     "metadata": {},
     "output_type": "execute_result"
    }
   ],
   "source": [
    "#Herança\n",
    "class Calculos(DidaticaTech):\n",
    "    pass\n",
    "c = Calculos()\n",
    "c.incrementa_quad()\n",
    "c.valor_exp"
   ]
  },
  {
   "cell_type": "code",
   "execution_count": 118,
   "metadata": {},
   "outputs": [
    {
     "data": {
      "text/plain": [
       "11"
      ]
     },
     "execution_count": 118,
     "metadata": {},
     "output_type": "execute_result"
    }
   ],
   "source": [
    "class Calculo(DidaticaTech):\n",
    "    def decrementa(self):\n",
    "        self.valor = self.valor - self.incremento\n",
    "c = Calculo()\n",
    "c.incrementa()\n",
    "c.valor"
   ]
  },
  {
   "cell_type": "code",
   "execution_count": 119,
   "metadata": {},
   "outputs": [
    {
     "data": {
      "text/plain": [
       "10"
      ]
     },
     "execution_count": 119,
     "metadata": {},
     "output_type": "execute_result"
    }
   ],
   "source": [
    "c.decrementa()\n",
    "c.valor"
   ]
  },
  {
   "cell_type": "code",
   "execution_count": 161,
   "metadata": {},
   "outputs": [
    {
     "data": {
      "text/plain": [
       "10"
      ]
     },
     "execution_count": 161,
     "metadata": {},
     "output_type": "execute_result"
    }
   ],
   "source": [
    "#polimorfismos: o mesmo objeto recebendo diferentes formas\n",
    "class Calculos(DidaticaTech):\n",
    "    def __init__(self, d=5):\n",
    "        super().__init__(v=10,i=1)\n",
    "        self.divisor = d\n",
    "    def decrementa(self):\n",
    "        self.valor = self.valor - self.incremento\n",
    "    def divide(self):\n",
    "        self.valor = self.valor/self.divisor\n",
    "c = Calculos()\n",
    "c.valor"
   ]
  },
  {
   "cell_type": "code",
   "execution_count": 162,
   "metadata": {},
   "outputs": [
    {
     "data": {
      "text/plain": [
       "11"
      ]
     },
     "execution_count": 162,
     "metadata": {},
     "output_type": "execute_result"
    }
   ],
   "source": [
    "c.incrementa()\n",
    "c.valor"
   ]
  },
  {
   "cell_type": "code",
   "execution_count": 148,
   "metadata": {},
   "outputs": [],
   "source": [
    "c.decrementa()"
   ]
  },
  {
   "cell_type": "code",
   "execution_count": 164,
   "metadata": {},
   "outputs": [
    {
     "data": {
      "text/plain": [
       "0.44000000000000006"
      ]
     },
     "execution_count": 164,
     "metadata": {},
     "output_type": "execute_result"
    }
   ],
   "source": [
    "c.divide()\n",
    "c.valor"
   ]
  }
 ],
 "metadata": {
  "kernelspec": {
   "display_name": "Python 3",
   "language": "python",
   "name": "python3"
  },
  "language_info": {
   "codemirror_mode": {
    "name": "ipython",
    "version": 3
   },
   "file_extension": ".py",
   "mimetype": "text/x-python",
   "name": "python",
   "nbconvert_exporter": "python",
   "pygments_lexer": "ipython3",
   "version": "3.7.6"
  }
 },
 "nbformat": 4,
 "nbformat_minor": 4
}
