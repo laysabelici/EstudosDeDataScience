{
 "cells": [
  {
   "cell_type": "code",
   "execution_count": 1,
   "metadata": {},
   "outputs": [],
   "source": [
    "#Programação orientada para objetos\n",
    "class Carro:\n",
    "    pass"
   ]
  },
  {
   "cell_type": "code",
   "execution_count": 3,
   "metadata": {},
   "outputs": [
    {
     "name": "stdout",
     "output_type": "stream",
     "text": [
      "Weber\n"
     ]
    }
   ],
   "source": [
    "#Criando uma class\n",
    "#\n",
    "class Pessoa:\n",
    "    def __init__(self, nome, idade):\n",
    "        self.nome = nome\n",
    "        self.idade = idade\n",
    "b1 = Pessoa('Weber', 27)\n",
    "print(b1.nome)"
   ]
  },
  {
   "cell_type": "code",
   "execution_count": 5,
   "metadata": {},
   "outputs": [
    {
     "data": {
      "text/plain": [
       "'Weber'"
      ]
     },
     "execution_count": 5,
     "metadata": {},
     "output_type": "execute_result"
    }
   ],
   "source": [
    "#Atributo getter, pegar o atributo\n",
    "getattr(b1, 'nome')"
   ]
  },
  {
   "cell_type": "code",
   "execution_count": 9,
   "metadata": {},
   "outputs": [
    {
     "name": "stdout",
     "output_type": "stream",
     "text": [
      "Web 27\n"
     ]
    }
   ],
   "source": [
    "#Atributo setter, setar o atributo\n",
    "setattr(b1, 'nome','Web')\n",
    "print(b1.nome, b1.idade)"
   ]
  },
  {
   "cell_type": "code",
   "execution_count": 11,
   "metadata": {},
   "outputs": [
    {
     "name": "stdout",
     "output_type": "stream",
     "text": [
      "<__main__.Carro object at 0x0000021FF521F708>\n"
     ]
    }
   ],
   "source": [
    "#Objetos são instancias de uma classe\n",
    "fusca = Carro()\n",
    "print(fusca)"
   ]
  },
  {
   "cell_type": "code",
   "execution_count": 12,
   "metadata": {},
   "outputs": [],
   "source": [
    "#Todos dados em pythons são objetos"
   ]
  },
  {
   "cell_type": "code",
   "execution_count": 14,
   "metadata": {},
   "outputs": [
    {
     "name": "stdout",
     "output_type": "stream",
     "text": [
      "<class 'list'>\n"
     ]
    }
   ],
   "source": [
    "#A variavel abaixo é uma instância da classe list\n",
    "lista = [1,2,3,4,5,6]\n",
    "print(type(lista))"
   ]
  },
  {
   "cell_type": "code",
   "execution_count": 15,
   "metadata": {},
   "outputs": [],
   "source": [
    "#Atributos e o método __init__(construtor)\n",
    "class Carro:\n",
    "    def __init__(self, rodas, tanque, bancos, velocidade):\n",
    "        self.rodas = rodas\n",
    "        self. tanque = tanque\n",
    "        self.bancos = bancos\n",
    "        self.velocidade = velocidade"
   ]
  },
  {
   "cell_type": "code",
   "execution_count": 16,
   "metadata": {},
   "outputs": [],
   "source": [
    "#Criando um objeto com atributos\n",
    "tesla = Carro(4,'200 litros', 4, '150 km/h')"
   ]
  },
  {
   "cell_type": "code",
   "execution_count": 22,
   "metadata": {},
   "outputs": [
    {
     "name": "stdout",
     "output_type": "stream",
     "text": [
      "Meu carro tem 2 rodas.\n",
      "Meu carro tem 2 rodas.\n"
     ]
    }
   ],
   "source": [
    "#Acessando valores\n",
    "print(f'Meu carro tem {tesla.rodas} rodas.')\n",
    "print('Meu carro tem {} rodas.'.format(tesla.rodas))"
   ]
  },
  {
   "cell_type": "code",
   "execution_count": 21,
   "metadata": {},
   "outputs": [
    {
     "name": "stdout",
     "output_type": "stream",
     "text": [
      "2\n"
     ]
    }
   ],
   "source": [
    "#Alterando valores\n",
    "tesla.rodas = 2\n",
    "print(tesla.rodas)"
   ]
  },
  {
   "cell_type": "code",
   "execution_count": 39,
   "metadata": {},
   "outputs": [],
   "source": [
    "#Métodos\n",
    "class Turistas():\n",
    "    def __init__(self, nome, nacionalidade = 'BR'):\n",
    "        self.nome = nome\n",
    "        self.nacionalidade = nacionalidade"
   ]
  },
  {
   "cell_type": "code",
   "execution_count": 41,
   "metadata": {},
   "outputs": [],
   "source": [
    "#Criando diversos métodos para essa mesma class\n",
    "class Turistas():\n",
    "    def __init__(self, nome, nacionalidade = 'BR'):\n",
    "        self.nome = nome\n",
    "        self.nacionalidade = nacionalidade\n",
    "    def ConfigNac(self, nova_nacionalidade):\n",
    "        self.nacionalidade = nova_nacionalidade\n",
    "    def ConfigNome(self, novo_nome):\n",
    "        self.nome = novo_nome"
   ]
  },
  {
   "cell_type": "code",
   "execution_count": 42,
   "metadata": {},
   "outputs": [
    {
     "name": "stdout",
     "output_type": "stream",
     "text": [
      "Anita BR\n"
     ]
    }
   ],
   "source": [
    "t1 = Turistas('Anita')\n",
    "print(t1.nome, t1.nacionalidade)"
   ]
  },
  {
   "cell_type": "code",
   "execution_count": 43,
   "metadata": {},
   "outputs": [
    {
     "name": "stdout",
     "output_type": "stream",
     "text": [
      "Anita ES\n"
     ]
    }
   ],
   "source": [
    "t1.ConfigNac('ES')\n",
    "print(t1.nome, t1.nacionalidade)"
   ]
  },
  {
   "cell_type": "code",
   "execution_count": 46,
   "metadata": {},
   "outputs": [
    {
     "name": "stdout",
     "output_type": "stream",
     "text": [
      "4\n"
     ]
    }
   ],
   "source": [
    "#Herança\n",
    "class Carro:\n",
    "    def __init__(self, rodas, tanque, bancos, velocidade):\n",
    "        self.rodas = rodas\n",
    "        self.tanque = tanque\n",
    "        self.bancos = bancos\n",
    "        self.velocidade =velocidade\n",
    "#Classe carro elétrico\n",
    "class CarroEletrico:\n",
    "    def __init__(self, rodas, tanque, bancos, velocidade):\n",
    "        Carro.__init__(self, rodas, tanque, bancos, velocidade)\n",
    "\n",
    "carrinho = CarroEletrico(4,'100 l', 5, '180 km/h')\n",
    "print(carrinho.rodas)"
   ]
  },
  {
   "cell_type": "code",
   "execution_count": 47,
   "metadata": {},
   "outputs": [],
   "source": [
    "#Diferença entre métodos e funções\n",
    "#Função: um bloco de tarefa especifica podendo retomar ou não valores\n",
    "#Método: Tem de estar sempre associado a objetos/classes"
   ]
  },
  {
   "cell_type": "code",
   "execution_count": 50,
   "metadata": {},
   "outputs": [
    {
     "data": {
      "text/plain": [
       "3"
      ]
     },
     "execution_count": 50,
     "metadata": {},
     "output_type": "execute_result"
    }
   ],
   "source": [
    "#Função\n",
    "def soma(n1, n2):\n",
    "    return(n1+n2)\n",
    "soma(1,2)"
   ]
  },
  {
   "cell_type": "code",
   "execution_count": 51,
   "metadata": {},
   "outputs": [
    {
     "name": "stdout",
     "output_type": "stream",
     "text": [
      "Eu sou um método\n"
     ]
    }
   ],
   "source": [
    "#Método\n",
    "class Metodo(object):\n",
    "    def metod(self):\n",
    "        print('Eu sou um método')\n",
    "m1 = Metodo()\n",
    "m1.metod()"
   ]
  }
 ],
 "metadata": {
  "kernelspec": {
   "display_name": "Python 3",
   "language": "python",
   "name": "python3"
  },
  "language_info": {
   "codemirror_mode": {
    "name": "ipython",
    "version": 3
   },
   "file_extension": ".py",
   "mimetype": "text/x-python",
   "name": "python",
   "nbconvert_exporter": "python",
   "pygments_lexer": "ipython3",
   "version": "3.7.6"
  }
 },
 "nbformat": 4,
 "nbformat_minor": 4
}
