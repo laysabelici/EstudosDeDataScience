{
 "cells": [
  {
   "cell_type": "code",
   "execution_count": 1,
   "metadata": {},
   "outputs": [
    {
     "name": "stdout",
     "output_type": "stream",
     "text": [
      "\n",
      "A Pedra de Roseta é um fragmento de uma estela de granodiorito erigida no Egito Ptolemaico, cujo texto foi crucial para a compreensão moderna dos hieróglifos egípcios e deu início a um novo ramo do conhecimento, a egiptologia. Frequentemente descrita como \"a pedra mais famosa do mundo\", sua inscrição guarda um decreto de um conselho de sacerdotes estabelecendo o culto ao faraó Ptolemeu V, no primeiro aniversário de sua coroação. Promulgada na cidade de Mênfis, em 196 AEC, essa deliberação é registrada em três versões com conteúdo em geral equivalente mas em escritas diferentes: a superior foi registrada na forma hieroglífica do egípcio antigo; a do meio em demótico, variante escrita do egípcio tardio; e a inferior em grego antigo.\n",
      "Provavelmente originária de um templo na região de Saís, no delta do Nilo, a Pedra de Roseta contém um dos chamados Decretos Ptolemaicos, um grupo de textos legislativos promulgados pela Dinastia ptolemaica entre os séculos II e III AEC honrando seus faraós reinantes, e que previam que múltiplas cópias suas deviam ser edificadas nos templos do Egito. Removida mais tarde, ela foi usada como material na construção de um forte na cidade marítima de Roseta, onde em 1799 foi redescoberta por um soldado integrando a expedição francesa ao Egito liderada por Napoleão Bonaparte. Primeira inscrição plurilíngue incluindo a língua egípcia antiga a ser recuperada na Idade Contemporânea, a Pedra de Roseta logo despertou interesse pela possibilidade de permitir traduzir a escrita hieroglífica desse idioma, cuja significação se perdera no final Antiguidade. Como consequência, rapidamente cópias litografadas e de gesso suas passaram a circular entre museus e acadêmicos europeus. Neste ínterim tropas britânicas e otomanas derrotaram os franceses no Egito, em 1801, e ela acabou na posse do Reino Unido, de acordo com a Capitulação de Alexandria. Transportada para Londres, desde 1802 está em exibição no Museu Britânico, do qual permanece o objeto mais visitado. (leia mais...)\n",
      "\n",
      "\n",
      "\n",
      "Compartilhe: \n",
      "\n",
      "\n",
      "\n",
      "Artigos destacados: 1193 •\n",
      "Artigos bons: 1410\n",
      "\n",
      "\n"
     ]
    }
   ],
   "source": [
    "#web scraping/web crawlers\n",
    "import requests\n",
    "from bs4 import BeautifulSoup\n",
    "url = 'https://pt.wikipedia.org/wiki/Wikip%C3%A9dia:P%C3%A1gina_principal'\n",
    "tag = 'div'\n",
    "query = {'id':'mf-artigos-destacados'}\n",
    "\n",
    "response = requests.get(url)\n",
    "content = response.content\n",
    "soup = BeautifulSoup(content, 'html.parser')\n",
    "element = soup.find(tag, query)\n",
    "destaque = element.text\n",
    "print(destaque)"
   ]
  }
 ],
 "metadata": {
  "kernelspec": {
   "display_name": "Python 3",
   "language": "python",
   "name": "python3"
  },
  "language_info": {
   "codemirror_mode": {
    "name": "ipython",
    "version": 3
   },
   "file_extension": ".py",
   "mimetype": "text/x-python",
   "name": "python",
   "nbconvert_exporter": "python",
   "pygments_lexer": "ipython3",
   "version": "3.7.6"
  }
 },
 "nbformat": 4,
 "nbformat_minor": 4
}
