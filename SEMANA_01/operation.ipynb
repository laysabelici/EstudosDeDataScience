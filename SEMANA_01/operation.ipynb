{
 "cells": [
  {
   "cell_type": "code",
   "execution_count": 10,
   "metadata": {},
   "outputs": [
    {
     "name": "stdout",
     "output_type": "stream",
     "text": [
      "3\n",
      "chatbot\n",
      "1\n",
      "6\n",
      "2.0\n",
      "8\n",
      "20\n",
      "0\n"
     ]
    }
   ],
   "source": [
    "#simbologia padrão\n",
    "\n",
    "#soma\n",
    "print(1+2)\n",
    "\n",
    "#soma de strings\n",
    "print('chat'+'bot')\n",
    "\n",
    "#subtração\n",
    "print(3-2)\n",
    "\n",
    "#multiplicação\n",
    "print(2*3)\n",
    "\n",
    "#divisão\n",
    "print(4/2)\n",
    "\n",
    "#exponencial\n",
    "print(2**3)\n",
    "\n",
    "#parte inteira da divisão\n",
    "print(100//5)\n",
    "\n",
    "#resto da divisão\n",
    "print(100%5)"
   ]
  },
  {
   "cell_type": "code",
   "execution_count": 15,
   "metadata": {},
   "outputs": [],
   "source": [
    "#regras de precedência de execução PEMDAS\n",
    "#parenteses, exponencial, divisão, adição, subtração"
   ]
  },
  {
   "cell_type": "code",
   "execution_count": 16,
   "metadata": {},
   "outputs": [],
   "source": [
    "#operadores lógicos\n",
    "# > maior, < menor, >= maior ou igual, <= menor ou igual\n",
    "# == igual, != diferente"
   ]
  },
  {
   "cell_type": "code",
   "execution_count": 19,
   "metadata": {},
   "outputs": [
    {
     "name": "stdout",
     "output_type": "stream",
     "text": [
      "True\n",
      "True\n"
     ]
    }
   ],
   "source": [
    "#maior\n",
    "print(0<10)\n",
    "\n",
    "#maior ou igual\n",
    "print(10>=10)"
   ]
  },
  {
   "cell_type": "code",
   "execution_count": 21,
   "metadata": {},
   "outputs": [
    {
     "name": "stdout",
     "output_type": "stream",
     "text": [
      "False\n",
      "False\n"
     ]
    }
   ],
   "source": [
    "#menor\n",
    "print(11<10)\n",
    "\n",
    "#menor ou igual\n",
    "print(11<=10)"
   ]
  },
  {
   "cell_type": "code",
   "execution_count": 26,
   "metadata": {},
   "outputs": [
    {
     "name": "stdout",
     "output_type": "stream",
     "text": [
      "True\n",
      "False\n"
     ]
    }
   ],
   "source": [
    "#igual\n",
    "print(0==0)\n",
    "\n",
    "#diferente\n",
    "print(0!=0)"
   ]
  },
  {
   "cell_type": "code",
   "execution_count": 27,
   "metadata": {},
   "outputs": [
    {
     "name": "stdout",
     "output_type": "stream",
     "text": [
      "True\n"
     ]
    }
   ],
   "source": [
    "#operador in, verifica se o elemento esta contido na estrutura citada\n",
    "x = 'python'\n",
    "print('p' in x)"
   ]
  }
 ],
 "metadata": {
  "kernelspec": {
   "display_name": "Python 3",
   "language": "python",
   "name": "python3"
  },
  "language_info": {
   "codemirror_mode": {
    "name": "ipython",
    "version": 3
   },
   "file_extension": ".py",
   "mimetype": "text/x-python",
   "name": "python",
   "nbconvert_exporter": "python",
   "pygments_lexer": "ipython3",
   "version": "3.7.6"
  }
 },
 "nbformat": 4,
 "nbformat_minor": 4
}
