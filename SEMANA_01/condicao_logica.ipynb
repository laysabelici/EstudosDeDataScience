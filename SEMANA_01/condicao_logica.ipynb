{
 "cells": [
  {
   "cell_type": "code",
   "execution_count": 3,
   "metadata": {},
   "outputs": [
    {
     "name": "stdout",
     "output_type": "stream",
     "text": [
      "Número positivo\n"
     ]
    }
   ],
   "source": [
    "#ESTRUTURAS CONDICIONAIS\n",
    "\n",
    "#if\n",
    "x=10\n",
    "if x>0:\n",
    "    print('Número positivo')\n",
    "else:\n",
    "    print('Número negativo')"
   ]
  },
  {
   "cell_type": "code",
   "execution_count": 5,
   "metadata": {},
   "outputs": [
    {
     "name": "stdout",
     "output_type": "stream",
     "text": [
      "Trimestre 1\n"
     ]
    }
   ],
   "source": [
    "#CONECTIVOS LÓGICOS\n",
    "#and retorna TRUE se ambas opções forem atendidas\n",
    "#or retorna TRUE se alguma opção for atendida\n",
    "#not retorna FALSE\n",
    "#elif, elfe+if = senão\n",
    "#else, não\n",
    "#if, se\n",
    "\n",
    "x = 'janeiro'\n",
    "if x == 'janeiro' or x =='feveiro' or x == 'março':\n",
    "    print('Trimestre 1')\n",
    "elif x == 'abril' or x =='maio' or x=='junho':\n",
    "    print('Trimestre 2')\n",
    "else:\n",
    "    print('trimestre 3')"
   ]
  }
 ],
 "metadata": {
  "kernelspec": {
   "display_name": "Python 3",
   "language": "python",
   "name": "python3"
  },
  "language_info": {
   "codemirror_mode": {
    "name": "ipython",
    "version": 3
   },
   "file_extension": ".py",
   "mimetype": "text/x-python",
   "name": "python",
   "nbconvert_exporter": "python",
   "pygments_lexer": "ipython3",
   "version": "3.7.6"
  }
 },
 "nbformat": 4,
 "nbformat_minor": 4
}
