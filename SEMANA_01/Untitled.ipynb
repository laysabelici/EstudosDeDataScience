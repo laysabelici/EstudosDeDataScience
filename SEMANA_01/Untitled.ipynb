{
 "cells": [
  {
   "cell_type": "code",
   "execution_count": 3,
   "metadata": {},
   "outputs": [
    {
     "name": "stdout",
     "output_type": "stream",
     "text": [
      "A\n"
     ]
    }
   ],
   "source": [
    "from itertools import permutations\n",
    "\n",
    "def words(letters):\n",
    "    for n in range(1, len(letters)+1):\n",
    "        yield from map(''.join, permutations(letters, n))\n",
    "\n",
    "for word in words('A'):\n",
    "    print(word)"
   ]
  },
  {
   "cell_type": "code",
   "execution_count": null,
   "metadata": {},
   "outputs": [],
   "source": []
  },
  {
   "cell_type": "code",
   "execution_count": null,
   "metadata": {},
   "outputs": [],
   "source": [
    "numeros = []\n",
    "for x in range (0,3):\n",
    "    num = int(input('Informe um número: '))\n",
    "    numeros.append(num)\n",
    "    \n",
    "maior = max(numeros)\n",
    "menor = min(numeros)\n",
    "\n",
    "print('Maior: {}|Menor: {}'.format(maior,menor))"
   ]
  },
  {
   "cell_type": "code",
   "execution_count": 2,
   "metadata": {},
   "outputs": [
    {
     "name": "stdout",
     "output_type": "stream",
     "text": [
      "Reprovou. Sua nota é: 6.0\n"
     ]
    }
   ],
   "source": [
    "class Notas:\n",
    "    def __init__(self, n1=int, n2=int, n3=int, n4=int):\n",
    "        self.nota1=n1\n",
    "        self.nota2=n2\n",
    "        self.nota3=n3\n",
    "        self.nota4=n4\n",
    "    def media(self):\n",
    "        self.media=(self.nota1+self.nota2+self.nota3+self.nota4)/4\n",
    "    def verificar(self):\n",
    "        if self.media>7:\n",
    "            print('Passou, sua nota é: {}'.format(self.media))\n",
    "        else:\n",
    "            print('Reprovou. Sua nota é: {}'.format(self.media))\n",
    "\n",
    "a = Notas(3,4,9,8)\n",
    "\n",
    "a.media()\n",
    "a.verificar()"
   ]
  },
  {
   "cell_type": "code",
   "execution_count": 8,
   "metadata": {},
   "outputs": [
    {
     "name": "stdout",
     "output_type": "stream",
     "text": [
      "Nota 1: 4\n",
      "Nota 2: 4\n"
     ]
    },
    {
     "ename": "TypeError",
     "evalue": "'type' object is not subscriptable",
     "output_type": "error",
     "traceback": [
      "\u001b[1;31m---------------------------------------------------------------------------\u001b[0m",
      "\u001b[1;31mTypeError\u001b[0m                                 Traceback (most recent call last)",
      "\u001b[1;32m<ipython-input-8-145b5febfe2b>\u001b[0m in \u001b[0;36m<module>\u001b[1;34m\u001b[0m\n\u001b[0;32m     12\u001b[0m \u001b[0mn1\u001b[0m\u001b[1;33m=\u001b[0m\u001b[0mint\u001b[0m\u001b[1;33m(\u001b[0m\u001b[0minput\u001b[0m\u001b[1;33m(\u001b[0m\u001b[1;34m'Nota 1: '\u001b[0m\u001b[1;33m)\u001b[0m\u001b[1;33m)\u001b[0m\u001b[1;33m\u001b[0m\u001b[1;33m\u001b[0m\u001b[0m\n\u001b[0;32m     13\u001b[0m \u001b[0mn2\u001b[0m\u001b[1;33m=\u001b[0m\u001b[0mint\u001b[0m\u001b[1;33m(\u001b[0m\u001b[0minput\u001b[0m\u001b[1;33m(\u001b[0m\u001b[1;34m'Nota 2: '\u001b[0m\u001b[1;33m)\u001b[0m\u001b[1;33m)\u001b[0m\u001b[1;33m\u001b[0m\u001b[1;33m\u001b[0m\u001b[0m\n\u001b[1;32m---> 14\u001b[1;33m \u001b[0mb\u001b[0m\u001b[1;33m=\u001b[0m\u001b[0mint\u001b[0m\u001b[1;33m(\u001b[0m\u001b[0mNota\u001b[0m\u001b[1;33m[\u001b[0m\u001b[0mn1\u001b[0m\u001b[1;33m,\u001b[0m\u001b[0mn2\u001b[0m\u001b[1;33m]\u001b[0m\u001b[1;33m)\u001b[0m\u001b[1;33m\u001b[0m\u001b[1;33m\u001b[0m\u001b[0m\n\u001b[0m\u001b[0;32m     15\u001b[0m \u001b[0mb\u001b[0m\u001b[1;33m.\u001b[0m\u001b[0mmedia\u001b[0m\u001b[1;33m(\u001b[0m\u001b[1;33m)\u001b[0m\u001b[1;33m\u001b[0m\u001b[1;33m\u001b[0m\u001b[0m\n\u001b[0;32m     16\u001b[0m \u001b[0mb\u001b[0m\u001b[1;33m.\u001b[0m\u001b[0mverificar\u001b[0m\u001b[1;33m(\u001b[0m\u001b[1;33m)\u001b[0m\u001b[1;33m\u001b[0m\u001b[1;33m\u001b[0m\u001b[0m\n",
      "\u001b[1;31mTypeError\u001b[0m: 'type' object is not subscriptable"
     ]
    }
   ],
   "source": [
    "class Nota:\n",
    "    def __init__(self, n1=int, n2=int):\n",
    "        self.nota1 = n1\n",
    "        self.nota2 = n2\n",
    "    def media(self):\n",
    "        self.media = (self.nota1+self.nota2)/2\n",
    "    def verificar(self):\n",
    "        if self.media>6:\n",
    "            print('Passou. {}'.format(self.media))\n",
    "        else:\n",
    "            print('Reprovou. {}'.format(self.media))\n",
    "n1=int(input('Nota 1: '))\n",
    "n2=int(input('Nota 2: '))\n",
    "b=int(Nota[n1,n2])\n",
    "b.media()\n",
    "b.verificar()\n"
   ]
  },
  {
   "cell_type": "code",
   "execution_count": null,
   "metadata": {},
   "outputs": [],
   "source": []
  },
  {
   "cell_type": "code",
   "execution_count": null,
   "metadata": {},
   "outputs": [],
   "source": []
  }
 ],
 "metadata": {
  "kernelspec": {
   "display_name": "Python 3",
   "language": "python",
   "name": "python3"
  },
  "language_info": {
   "codemirror_mode": {
    "name": "ipython",
    "version": 3
   },
   "file_extension": ".py",
   "mimetype": "text/x-python",
   "name": "python",
   "nbconvert_exporter": "python",
   "pygments_lexer": "ipython3",
   "version": "3.7.6"
  }
 },
 "nbformat": 4,
 "nbformat_minor": 4
}
