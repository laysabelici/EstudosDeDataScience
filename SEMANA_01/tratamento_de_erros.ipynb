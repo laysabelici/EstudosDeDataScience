{
 "cells": [
  {
   "cell_type": "code",
   "execution_count": null,
   "metadata": {},
   "outputs": [],
   "source": [
    "#tratamento de erros e exceções\n",
    "#IOError: se o arquivo não puder ser aberto/salvo\n",
    "#ImportError: se o PY não encontrar o módulo\n",
    "#VolueError: operação recebe valor inadequado\n",
    "#EOIError: quando o input não recebe nenhum dado\n",
    "#TypeError: erro de tipo de operação\n",
    "\n",
    "#try: seu código\n",
    "#except:"
   ]
  },
  {
   "cell_type": "code",
   "execution_count": null,
   "metadata": {},
   "outputs": [],
   "source": [
    "#Exemplo de erro\n",
    "#x = input('Digite um número: ')\n",
    "#print(x/1)"
   ]
  },
  {
   "cell_type": "code",
   "execution_count": null,
   "metadata": {},
   "outputs": [],
   "source": [
    "#Try/Except\n",
    "\n",
    "try:\n",
    "    x=input('Digite um número: ')\n",
    "    print(x/1)\n",
    "except TypeError:\n",
    "    print('Error type!')"
   ]
  },
  {
   "cell_type": "code",
   "execution_count": null,
   "metadata": {},
   "outputs": [],
   "source": [
    "#Laços de repetições para erros\n",
    "while True:\n",
    "    try:\n",
    "        x = int(input('Digite um número inteiro: '))\n",
    "        print(f'Dividindo 100 por {x}, teremos {int(100/x)}')\n",
    "        break\n",
    "    except ValueError:\n",
    "        print('O valor digitado não é um inteiro. Tente novamente')"
   ]
  },
  {
   "cell_type": "code",
   "execution_count": null,
   "metadata": {},
   "outputs": [],
   "source": [
    "#else\n",
    "try:\n",
    "    x = int(input('Digite um número inteiro: '))\n",
    "    print(f'Dividindo 100 por {x}, teremos {int(100/x)}.')\n",
    "except ValueError:\n",
    "    print('O valor digitado não é inteiro.')\n",
    "else:\n",
    "    print('Executado com sucesso!')"
   ]
  },
  {
   "cell_type": "code",
   "execution_count": null,
   "metadata": {},
   "outputs": [],
   "source": [
    "#finally\n",
    "while True:\n",
    "    x = int(input('Digite um número inteiro: '))\n",
    "    print(f'Dividindo 100 por {x}, teremos {int(100/x)}')\n",
    "    break\n",
    "except ValueError:\n",
    "    print('O valor digitado não é inteiro.')\n",
    "finally:\n",
    "    print('O finally executa o bloco havendo ou não execuções')"
   ]
  }
 ],
 "metadata": {
  "kernelspec": {
   "display_name": "Python 3",
   "language": "python",
   "name": "python3"
  },
  "language_info": {
   "codemirror_mode": {
    "name": "ipython",
    "version": 3
   },
   "file_extension": ".py",
   "mimetype": "text/x-python",
   "name": "python",
   "nbconvert_exporter": "python",
   "pygments_lexer": "ipython3",
   "version": "3.7.6"
  }
 },
 "nbformat": 4,
 "nbformat_minor": 4
}
