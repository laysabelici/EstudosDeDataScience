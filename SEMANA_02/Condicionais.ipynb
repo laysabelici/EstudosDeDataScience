{
 "cells": [
  {
   "cell_type": "code",
   "execution_count": 1,
   "metadata": {},
   "outputs": [],
   "source": [
    "#CONDICIONAIS"
   ]
  },
  {
   "cell_type": "code",
   "execution_count": 2,
   "metadata": {},
   "outputs": [],
   "source": [
    "#< menor\n",
    "#> maior\n",
    "#<= menor ou igual\n",
    "#>= maior ou igual\n",
    "#==igual\n",
    "#!= diferente\n",
    "#! not"
   ]
  },
  {
   "cell_type": "code",
   "execution_count": 9,
   "metadata": {},
   "outputs": [
    {
     "name": "stdout",
     "output_type": "stream",
     "text": [
      "[1] \"A é menor que B.\"\n"
     ]
    }
   ],
   "source": [
    "#CONDIÇÃO if()\n",
    "a = 1\n",
    "b = 2\n",
    "if(a<b){\n",
    "    print(\"A é menor que B.\")\n",
    "}"
   ]
  },
  {
   "cell_type": "code",
   "execution_count": 13,
   "metadata": {},
   "outputs": [
    {
     "name": "stdout",
     "output_type": "stream",
     "text": [
      "Número A: 8\n",
      "Número B: 1\n",
      "[1] \"A não é menor que B.\"\n"
     ]
    }
   ],
   "source": [
    "#CONDIÇÃO if else()\n",
    "a = as.integer(readline(\"Número A: \"))\n",
    "b = as.integer(readline(\"Número B: \"))\n",
    "if(a<b){\n",
    "    print(\"A é menor que B.\")\n",
    "} else{\n",
    "    print(\"A não é menor que B.\")\n",
    "}"
   ]
  },
  {
   "cell_type": "code",
   "execution_count": 14,
   "metadata": {},
   "outputs": [
    {
     "name": "stdout",
     "output_type": "stream",
     "text": [
      "Número A: 6\n",
      "Número B: 1\n"
     ]
    },
    {
     "data": {
      "text/html": [
       "'A maior que B'"
      ],
      "text/latex": [
       "'A maior que B'"
      ],
      "text/markdown": [
       "'A maior que B'"
      ],
      "text/plain": [
       "[1] \"A maior que B\""
      ]
     },
     "metadata": {},
     "output_type": "display_data"
    }
   ],
   "source": [
    "#ifelse()\n",
    "a = as.integer(readline(\"Número A: \"))\n",
    "b = as.integer(readline(\"Número B: \"))\n",
    "ifelse(a>b, \"A maior que B\", \"A menor que B\")"
   ]
  },
  {
   "cell_type": "code",
   "execution_count": null,
   "metadata": {},
   "outputs": [],
   "source": []
  }
 ],
 "metadata": {
  "kernelspec": {
   "display_name": "R",
   "language": "R",
   "name": "ir"
  },
  "language_info": {
   "codemirror_mode": "r",
   "file_extension": ".r",
   "mimetype": "text/x-r-source",
   "name": "R",
   "pygments_lexer": "r",
   "version": "3.6.1"
  }
 },
 "nbformat": 4,
 "nbformat_minor": 4
}
