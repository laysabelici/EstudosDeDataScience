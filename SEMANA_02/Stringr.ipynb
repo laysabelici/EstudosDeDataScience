{
 "cells": [
  {
   "cell_type": "code",
   "execution_count": 2,
   "metadata": {},
   "outputs": [
    {
     "data": {
      "text/html": [
       "23"
      ],
      "text/latex": [
       "23"
      ],
      "text/markdown": [
       "23"
      ],
      "text/plain": [
       "[1] 23"
      ]
     },
     "metadata": {},
     "output_type": "display_data"
    }
   ],
   "source": [
    "#STRINGR\n",
    "library(stringr)\n",
    "texto = \"isso é um teste simples\"\n",
    "str_length(texto)"
   ]
  },
  {
   "cell_type": "code",
   "execution_count": 3,
   "metadata": {},
   "outputs": [
    {
     "data": {
      "text/html": [
       "'ISSO É UM TESTE SIMPLES'"
      ],
      "text/latex": [
       "'ISSO É UM TESTE SIMPLES'"
      ],
      "text/markdown": [
       "'ISSO É UM TESTE SIMPLES'"
      ],
      "text/plain": [
       "[1] \"ISSO É UM TESTE SIMPLES\""
      ]
     },
     "metadata": {},
     "output_type": "display_data"
    }
   ],
   "source": [
    "str_to_upper(texto)"
   ]
  },
  {
   "cell_type": "code",
   "execution_count": 5,
   "metadata": {},
   "outputs": [
    {
     "data": {
      "text/html": [
       "'Minha idade é 29 anos.'"
      ],
      "text/latex": [
       "'Minha idade é 29 anos.'"
      ],
      "text/markdown": [
       "'Minha idade é 29 anos.'"
      ],
      "text/plain": [
       "[1] \"Minha idade é 29 anos.\""
      ]
     },
     "metadata": {},
     "output_type": "display_data"
    }
   ],
   "source": [
    "s1 = \"Minha idade é\"\n",
    "s2 = \" \"\n",
    "s3 = \"29 anos.\"\n",
    "str_c(s1,s2,s3)"
   ]
  },
  {
   "cell_type": "code",
   "execution_count": null,
   "metadata": {},
   "outputs": [],
   "source": []
  }
 ],
 "metadata": {
  "kernelspec": {
   "display_name": "R",
   "language": "R",
   "name": "ir"
  },
  "language_info": {
   "codemirror_mode": "r",
   "file_extension": ".r",
   "mimetype": "text/x-r-source",
   "name": "R",
   "pygments_lexer": "r",
   "version": "3.6.1"
  }
 },
 "nbformat": 4,
 "nbformat_minor": 4
}
