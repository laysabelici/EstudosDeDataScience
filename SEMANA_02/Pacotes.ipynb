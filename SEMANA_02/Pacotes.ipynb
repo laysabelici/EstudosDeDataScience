{
 "cells": [
  {
   "cell_type": "code",
   "execution_count": 1,
   "metadata": {},
   "outputs": [],
   "source": [
    "#PACOTES"
   ]
  },
  {
   "cell_type": "code",
   "execution_count": null,
   "metadata": {},
   "outputs": [
    {
     "name": "stderr",
     "output_type": "stream",
     "text": [
      "also installing the dependencies 'processx', 'crosstalk', 'xopen', 'brew', 'commonmark', 'purrr', 'ini', 'png', 'jpeg', 'checkmate', 'e1071', 'systemfonts', 'desc', 'pkgbuild', 'rprojroot', 'callr', 'cli', 'digest', 'DT', 'ellipsis', 'glue', 'git2r', 'httr', 'jsonlite', 'memoise', 'rcmdcheck', 'remotes', 'roxygen2', 'rstudioapi', 'rversions', 'sessioninfo', 'fontBitstreamVera', 'fontLiberation', 'fs', 'gh', 'rematch2', 'rex', 'survival', 'Formula', 'latticeExtra', 'acepack', 'gridExtra', 'htmlTable', 'viridis', 'sp', 'mvtnorm', 'TH.data', 'sandwich', 'SparseM', 'MatrixModels', 'classInt', 'units', 'gdtools', 'pkgload', 'praise', 'rlang', 'devtools', 'diffobj', 'fontquiver', 'freetypeharfbuzz', 'usethis', 'isoband', 'covr', 'ggplot2movies', 'Hmisc', 'mapproj', 'maptools', 'multcomp', 'profvis', 'quantreg', 'rgeos', 'sf', 'svglite', 'testthat', 'vdiffr'\n",
      "\n"
     ]
    }
   ],
   "source": [
    "#Instalar pacote\n",
    "install.packages(\"ggplot2\", dependencies=TRUE)"
   ]
  },
  {
   "cell_type": "code",
   "execution_count": null,
   "metadata": {},
   "outputs": [],
   "source": [
    "#Carrega pcts para ser utilizado no código\n",
    "library(ggplot2)"
   ]
  },
  {
   "cell_type": "code",
   "execution_count": 2,
   "metadata": {},
   "outputs": [
    {
     "name": "stderr",
     "output_type": "stream",
     "text": [
      "also installing the dependencies 'lifecycle', 'blob', 'tidyselect', 'vctrs', 'dbplyr', 'dplyr', 'haven', 'hms', 'modelr', 'pillar', 'reprex', 'rvest', 'tibble', 'tidyr', 'xml2'\n",
      "\n"
     ]
    },
    {
     "name": "stdout",
     "output_type": "stream",
     "text": [
      "package 'lifecycle' successfully unpacked and MD5 sums checked\n",
      "package 'blob' successfully unpacked and MD5 sums checked\n",
      "package 'tidyselect' successfully unpacked and MD5 sums checked\n",
      "package 'vctrs' successfully unpacked and MD5 sums checked\n",
      "package 'dbplyr' successfully unpacked and MD5 sums checked\n",
      "package 'dplyr' successfully unpacked and MD5 sums checked\n",
      "package 'haven' successfully unpacked and MD5 sums checked\n",
      "package 'hms' successfully unpacked and MD5 sums checked\n",
      "package 'modelr' successfully unpacked and MD5 sums checked\n",
      "package 'pillar' successfully unpacked and MD5 sums checked\n",
      "package 'reprex' successfully unpacked and MD5 sums checked\n",
      "package 'rvest' successfully unpacked and MD5 sums checked\n",
      "package 'tibble' successfully unpacked and MD5 sums checked\n",
      "package 'tidyr' successfully unpacked and MD5 sums checked\n",
      "package 'xml2' successfully unpacked and MD5 sums checked\n",
      "package 'tidyverse' successfully unpacked and MD5 sums checked\n",
      "\n",
      "The downloaded binary packages are in\n",
      "\tC:\\Users\\Usuario\\AppData\\Local\\Temp\\RtmpUzojtp\\downloaded_packages\n"
     ]
    }
   ],
   "source": [
    "install.packages(\"tidyverse\")"
   ]
  }
 ],
 "metadata": {
  "kernelspec": {
   "display_name": "R",
   "language": "R",
   "name": "ir"
  },
  "language_info": {
   "codemirror_mode": "r",
   "file_extension": ".r",
   "mimetype": "text/x-r-source",
   "name": "R",
   "pygments_lexer": "r",
   "version": "3.6.1"
  }
 },
 "nbformat": 4,
 "nbformat_minor": 4
}
