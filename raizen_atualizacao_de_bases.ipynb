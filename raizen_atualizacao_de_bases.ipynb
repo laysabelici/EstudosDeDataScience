{
  "cells": [
    {
      "cell_type": "markdown",
      "metadata": {
        "id": "view-in-github",
        "colab_type": "text"
      },
      "source": [
        "<a href=\"https://colab.research.google.com/github/laysabelici/EstudosDeDataScience/blob/master/raizen_atualizacao_de_bases.ipynb\" target=\"_parent\"><img src=\"https://colab.research.google.com/assets/colab-badge.svg\" alt=\"Open In Colab\"/></a>"
      ]
    },
    {
      "cell_type": "code",
      "source": [
        "# Adicionar o pip\n",
        "#!pip install os-sys\n",
        "#!pip install numpy\n",
        "#!pip install pandas\n",
        "#!pip install urllib\n",
        "#!pip install openpyxl\n",
        "#!pip install requests_html\n",
        "#!pip install urllib\n",
        "!pip install requests-html"
      ],
      "metadata": {
        "id": "SvaWAO8y1Z27",
        "colab": {
          "base_uri": "https://localhost:8080/"
        },
        "outputId": "21753fdd-cae3-4df1-fd2c-8802fc3d89f7"
      },
      "id": "SvaWAO8y1Z27",
      "execution_count": 3,
      "outputs": [
        {
          "output_type": "stream",
          "name": "stdout",
          "text": [
            "Looking in indexes: https://pypi.org/simple, https://us-python.pkg.dev/colab-wheels/public/simple/\n",
            "Collecting requests-html\n",
            "  Downloading requests_html-0.10.0-py3-none-any.whl (13 kB)\n",
            "Collecting pyquery\n",
            "  Downloading pyquery-1.4.3-py3-none-any.whl (22 kB)\n",
            "Requirement already satisfied: bs4 in /usr/local/lib/python3.7/dist-packages (from requests-html) (0.0.1)\n",
            "Collecting parse\n",
            "  Downloading parse-1.19.0.tar.gz (30 kB)\n",
            "Collecting pyppeteer>=0.0.14\n",
            "  Downloading pyppeteer-1.0.2-py3-none-any.whl (83 kB)\n",
            "\u001b[K     |████████████████████████████████| 83 kB 1.5 MB/s \n",
            "\u001b[?25hCollecting fake-useragent\n",
            "  Downloading fake-useragent-0.1.11.tar.gz (13 kB)\n",
            "Requirement already satisfied: requests in /usr/local/lib/python3.7/dist-packages (from requests-html) (2.23.0)\n",
            "Collecting w3lib\n",
            "  Downloading w3lib-1.22.0-py2.py3-none-any.whl (20 kB)\n",
            "Requirement already satisfied: appdirs<2.0.0,>=1.4.3 in /usr/local/lib/python3.7/dist-packages (from pyppeteer>=0.0.14->requests-html) (1.4.4)\n",
            "Requirement already satisfied: tqdm<5.0.0,>=4.42.1 in /usr/local/lib/python3.7/dist-packages (from pyppeteer>=0.0.14->requests-html) (4.64.0)\n",
            "Collecting urllib3<2.0.0,>=1.25.8\n",
            "  Downloading urllib3-1.26.11-py2.py3-none-any.whl (139 kB)\n",
            "\u001b[K     |████████████████████████████████| 139 kB 49.1 MB/s \n",
            "\u001b[?25hCollecting pyee<9.0.0,>=8.1.0\n",
            "  Downloading pyee-8.2.2-py2.py3-none-any.whl (12 kB)\n",
            "Requirement already satisfied: importlib-metadata>=1.4 in /usr/local/lib/python3.7/dist-packages (from pyppeteer>=0.0.14->requests-html) (4.12.0)\n",
            "Requirement already satisfied: certifi>=2021 in /usr/local/lib/python3.7/dist-packages (from pyppeteer>=0.0.14->requests-html) (2022.6.15)\n",
            "Collecting websockets<11.0,>=10.0\n",
            "  Downloading websockets-10.3-cp37-cp37m-manylinux_2_5_x86_64.manylinux1_x86_64.manylinux_2_12_x86_64.manylinux2010_x86_64.whl (112 kB)\n",
            "\u001b[K     |████████████████████████████████| 112 kB 35.8 MB/s \n",
            "\u001b[?25hRequirement already satisfied: zipp>=0.5 in /usr/local/lib/python3.7/dist-packages (from importlib-metadata>=1.4->pyppeteer>=0.0.14->requests-html) (3.8.1)\n",
            "Requirement already satisfied: typing-extensions>=3.6.4 in /usr/local/lib/python3.7/dist-packages (from importlib-metadata>=1.4->pyppeteer>=0.0.14->requests-html) (4.1.1)\n",
            "Requirement already satisfied: beautifulsoup4 in /usr/local/lib/python3.7/dist-packages (from bs4->requests-html) (4.6.3)\n",
            "Collecting cssselect>0.7.9\n",
            "  Downloading cssselect-1.1.0-py2.py3-none-any.whl (16 kB)\n",
            "Requirement already satisfied: lxml>=2.1 in /usr/local/lib/python3.7/dist-packages (from pyquery->requests-html) (4.2.6)\n",
            "Collecting urllib3<2.0.0,>=1.25.8\n",
            "  Downloading urllib3-1.25.11-py2.py3-none-any.whl (127 kB)\n",
            "\u001b[K     |████████████████████████████████| 127 kB 43.7 MB/s \n",
            "\u001b[?25hRequirement already satisfied: idna<3,>=2.5 in /usr/local/lib/python3.7/dist-packages (from requests->requests-html) (2.10)\n",
            "Requirement already satisfied: chardet<4,>=3.0.2 in /usr/local/lib/python3.7/dist-packages (from requests->requests-html) (3.0.4)\n",
            "Requirement already satisfied: six>=1.4.1 in /usr/local/lib/python3.7/dist-packages (from w3lib->requests-html) (1.15.0)\n",
            "Building wheels for collected packages: fake-useragent, parse\n",
            "  Building wheel for fake-useragent (setup.py) ... \u001b[?25l\u001b[?25hdone\n",
            "  Created wheel for fake-useragent: filename=fake_useragent-0.1.11-py3-none-any.whl size=13502 sha256=5fe4853c75305d63c268cc58328ca1e9ebf993b3ef61bcce55a1a7a04d6136be\n",
            "  Stored in directory: /root/.cache/pip/wheels/ed/f7/62/50ab6c9a0b5567267ab76a9daa9d06315704209b2c5d032031\n",
            "  Building wheel for parse (setup.py) ... \u001b[?25l\u001b[?25hdone\n",
            "  Created wheel for parse: filename=parse-1.19.0-py3-none-any.whl size=24591 sha256=7eb4b4584689228aa8e9844288592b5e2a9409f7628807b157d0cca165f3bcb5\n",
            "  Stored in directory: /root/.cache/pip/wheels/9c/aa/cc/f2228050ccb40f22144b073f15a2c84f11204f29fc0dce028e\n",
            "Successfully built fake-useragent parse\n",
            "Installing collected packages: websockets, urllib3, pyee, cssselect, w3lib, pyquery, pyppeteer, parse, fake-useragent, requests-html\n",
            "  Attempting uninstall: urllib3\n",
            "    Found existing installation: urllib3 1.24.3\n",
            "    Uninstalling urllib3-1.24.3:\n",
            "      Successfully uninstalled urllib3-1.24.3\n",
            "\u001b[31mERROR: pip's dependency resolver does not currently take into account all the packages that are installed. This behaviour is the source of the following dependency conflicts.\n",
            "datascience 0.10.6 requires folium==0.2.1, but you have folium 0.8.3 which is incompatible.\u001b[0m\n",
            "Successfully installed cssselect-1.1.0 fake-useragent-0.1.11 parse-1.19.0 pyee-8.2.2 pyppeteer-1.0.2 pyquery-1.4.3 requests-html-0.10.0 urllib3-1.25.11 w3lib-1.22.0 websockets-10.3\n"
          ]
        }
      ]
    },
    {
      "cell_type": "markdown",
      "source": [
        "Importando as bibliotecas necessárias"
      ],
      "metadata": {
        "id": "c5wgV6Ps7JVp"
      },
      "id": "c5wgV6Ps7JVp"
    },
    {
      "cell_type": "code",
      "execution_count": 4,
      "id": "f6fc9e59",
      "metadata": {
        "id": "f6fc9e59"
      },
      "outputs": [],
      "source": [
        "import os\n",
        "import numpy as np\n",
        "import pandas as pd\n",
        "import urllib.request\n",
        "import openpyxl\n",
        "from openpyxl import Workbook, load_workbook\n",
        "from openpyxl.utils.dataframe import dataframe_to_rows\n",
        "from requests_html import HTMLSession\n",
        "import urllib"
      ]
    },
    {
      "cell_type": "markdown",
      "source": [
        "### Obtenção dos dados\n",
        "\n"
      ],
      "metadata": {
        "id": "j3rKDwNa7QMx"
      },
      "id": "j3rKDwNa7QMx"
    },
    {
      "cell_type": "markdown",
      "source": [
        "Criando o diretório para armazenamento das bases de dados"
      ],
      "metadata": {
        "id": "wNci4wDxN60-"
      },
      "id": "wNci4wDxN60-"
    },
    {
      "cell_type": "code",
      "execution_count": 5,
      "id": "a223f3a8",
      "metadata": {
        "colab": {
          "base_uri": "https://localhost:8080/"
        },
        "id": "a223f3a8",
        "outputId": "4a8d7627-8872-4d25-d960-5e16ceb96619"
      },
      "outputs": [
        {
          "output_type": "stream",
          "name": "stdout",
          "text": [
            "Diretório gerado com sucesso.\n"
          ]
        }
      ],
      "source": [
        "diretorio = './bases_diarias'\n",
        "\n",
        "try:\n",
        "    os.makedirs(diretorio)\n",
        "    print('Diretório gerado com sucesso.')\n",
        "except:\n",
        "    print('Esse diretório já existe.')"
      ]
    },
    {
      "cell_type": "markdown",
      "source": [
        "Definido a url de dowload das bases de dados originais"
      ],
      "metadata": {
        "id": "C3kanVX47VPd"
      },
      "id": "C3kanVX47VPd"
    },
    {
      "cell_type": "code",
      "execution_count": 6,
      "id": "9b6c833d",
      "metadata": {
        "id": "9b6c833d"
      },
      "outputs": [],
      "source": [
        "datasets = {\n",
        "    'dataset_derivados': 'https://dados.gov.br/dataset/vendas-de-derivados-de-petroleo-e-biocombustiveis/resource/c3d6e0b4-f86e-48f8-9325-6cc0d434b33f?inner_span=True',\n",
        "    'dataset_diesel': 'https://dados.gov.br/dataset/vendas-de-derivados-de-petroleo-e-biocombustiveis/resource/2429fdeb-df86-4e63-b248-2038f6c3e3cc?inner_span=True'\n",
        "}"
      ]
    },
    {
      "cell_type": "markdown",
      "source": [
        "Acessando a url do repositório de dados para pegar a última versão disponível dos dados (caso uma nova versão esteja disponível as urls serão atualizadas)"
      ],
      "metadata": {
        "id": "TViJsVjp7g8U"
      },
      "id": "TViJsVjp7g8U"
    },
    {
      "cell_type": "code",
      "execution_count": 7,
      "id": "4ca6e3f7",
      "metadata": {
        "colab": {
          "base_uri": "https://localhost:8080/"
        },
        "id": "4ca6e3f7",
        "outputId": "37a2c3ef-069e-4ea3-f746-743a59c309b0"
      },
      "outputs": [
        {
          "output_type": "stream",
          "name": "stdout",
          "text": [
            "Base de dados dataset_derivados atualizada com sucesso!\n",
            "Base de dados dataset_diesel atualizada com sucesso!\n"
          ]
        }
      ],
      "source": [
        "try:\n",
        "  for dataset in datasets:\n",
        "    hiddens = HTMLSession().get(datasets[dataset]).html.find('a', containing='https://www.gov.br/anp/pt-br/centrais-de-conteudo', first=True)\n",
        "    datasets[dataset] = hiddens.links\n",
        "    print(f'Base de dados {dataset} atualizada com sucesso!')\n",
        "except:\n",
        "  print(f'Base de dados {dataset} não foi atualizada!')"
      ]
    },
    {
      "cell_type": "markdown",
      "source": [
        "Realizando o download das bases de dados"
      ],
      "metadata": {
        "id": "Wh5MxHvNMgP_"
      },
      "id": "Wh5MxHvNMgP_"
    },
    {
      "cell_type": "code",
      "source": [
        "try:\n",
        "  for dataset in datasets:\n",
        "    url = str(datasets[dataset]).strip(\"{'}\")\n",
        "    urllib.request.urlretrieve(url, f'./bases_diarias/dados_{dataset}.csv')\n",
        "    print(f\"Base de dados {dataset} atualizada.\")\n",
        "except:\n",
        "    print(f\"Não foi possível fazr o download da base de dados {dataset}.\")  "
      ],
      "metadata": {
        "colab": {
          "base_uri": "https://localhost:8080/"
        },
        "id": "Sf5K8ENgLBfX",
        "outputId": "29b56487-134a-4eb5-bb26-55ddff69d82d"
      },
      "id": "Sf5K8ENgLBfX",
      "execution_count": 8,
      "outputs": [
        {
          "output_type": "stream",
          "name": "stdout",
          "text": [
            "Base de dados dataset_derivados atualizada.\n",
            "Base de dados dataset_diesel atualizada.\n"
          ]
        }
      ]
    },
    {
      "cell_type": "code",
      "execution_count": 9,
      "id": "1c7faa62",
      "metadata": {
        "colab": {
          "base_uri": "https://localhost:8080/"
        },
        "id": "1c7faa62",
        "outputId": "58bf0a94-8ec9-4872-89f9-932b90deda5b"
      },
      "outputs": [
        {
          "output_type": "stream",
          "name": "stdout",
          "text": [
            "Dados pivotados baixados.\n"
          ]
        }
      ],
      "source": [
        "urllib.request.urlretrieve(\"https://www.gov.br/anp/pt-br/centrais-de-conteudo/dados-estatisticos/de/vdpb/vendas-combustiveis-m3.xls/@@download/file/vendas-combustiveis-m3.xlsx\", \"./bases_diarias/vendas-combustiveis-m3.xlsx\")\n",
        "print(\"Dados pivotados baixados.\") "
      ]
    },
    {
      "cell_type": "markdown",
      "source": [
        "### Tratamento dos dados"
      ],
      "metadata": {
        "id": "KZjMbsIJM61C"
      },
      "id": "KZjMbsIJM61C"
    },
    {
      "cell_type": "markdown",
      "source": [
        "Obtenção dos dados gerais de vendas de combustíveis\n",
        "\n",
        "\n"
      ],
      "metadata": {
        "id": "D4nIALFsN81F"
      },
      "id": "D4nIALFsN81F"
    },
    {
      "cell_type": "code",
      "execution_count": 10,
      "id": "71ea2f1a",
      "metadata": {
        "id": "71ea2f1a"
      },
      "outputs": [],
      "source": [
        "dados_gerais_vendas_combustiveis = openpyxl.load_workbook('./bases_diarias/vendas-combustiveis-m3.xlsx')\n",
        "tabela_vendas_combustiveis = dados_gerais_vendas_combustiveis['Plan1']"
      ]
    },
    {
      "cell_type": "markdown",
      "source": [
        "Obtenção da data de atualização dos dados"
      ],
      "metadata": {
        "id": "0LqMwTalSXNv"
      },
      "id": "0LqMwTalSXNv"
    },
    {
      "cell_type": "code",
      "source": [
        "data_atualizacao_dados = [tabela_vendas_combustiveis.cell(row=42, column=2).value]\n",
        "\n",
        "print(data_atualizacao_dados)"
      ],
      "metadata": {
        "colab": {
          "base_uri": "https://localhost:8080/"
        },
        "id": "h88_M30RSL44",
        "outputId": "591deecd-1125-4e97-81d0-1f60fc7efa61"
      },
      "id": "h88_M30RSL44",
      "execution_count": 11,
      "outputs": [
        {
          "output_type": "stream",
          "name": "stdout",
          "text": [
            "['Dados atualizados em 282 de julho de 2022.']\n"
          ]
        }
      ]
    },
    {
      "cell_type": "markdown",
      "source": [
        "Armazenar no dataframe a data de atualização dos dados"
      ],
      "metadata": {
        "id": "8KHY5ZzUR4x5"
      },
      "id": "8KHY5ZzUR4x5"
    },
    {
      "cell_type": "code",
      "execution_count": 12,
      "id": "40aacf08",
      "metadata": {
        "colab": {
          "base_uri": "https://localhost:8080/"
        },
        "id": "40aacf08",
        "outputId": "3411df33-fe07-42ed-cd76-ed47653543ea"
      },
      "outputs": [
        {
          "output_type": "stream",
          "name": "stdout",
          "text": [
            "                                      at_data\n",
            "0  Dados atualizados em 282 de julho de 2022.\n"
          ]
        }
      ],
      "source": [
        "dataframe_vendas_combustiveis = pd.DataFrame(data_atualizacao_dados, columns =['at_data'])\n",
        "\n",
        "print(dataframe_vendas_combustiveis)"
      ]
    },
    {
      "cell_type": "markdown",
      "source": [
        "Criando máscara de formatação do dataframe"
      ],
      "metadata": {
        "id": "VdnUsY2OUCBc"
      },
      "id": "VdnUsY2OUCBc"
    },
    {
      "cell_type": "markdown",
      "source": [
        "Carregando a base de dados de derivados e alterando o nome das colunas"
      ],
      "metadata": {
        "id": "dM9Ng_9rdK3g"
      },
      "id": "dM9Ng_9rdK3g"
    },
    {
      "cell_type": "code",
      "execution_count": 13,
      "id": "1c2afe2c",
      "metadata": {
        "colab": {
          "base_uri": "https://localhost:8080/"
        },
        "id": "1c2afe2c",
        "outputId": "6d859d50-91a6-444d-eb2c-fc1f4033db6f"
      },
      "outputs": [
        {
          "output_type": "stream",
          "name": "stdout",
          "text": [
            "       year month           region            uf           product      volume\n",
            "0      1999   NOV   REGIÃO SUDESTE  MINAS GERAIS  ETANOL HIDRATADO   43356,352\n",
            "1      1999   FEV   REGIÃO SUDESTE     SÃO PAULO  ETANOL HIDRATADO  202406,862\n",
            "2      1999   SET  REGIÃO NORDESTE       SERGIPE  ETANOL HIDRATADO    2744,883\n",
            "3      1999   AGO  REGIÃO NORDESTE       SERGIPE  ETANOL HIDRATADO    2661,218\n",
            "4      1999   MAI   REGIÃO SUDESTE     SÃO PAULO  ETANOL HIDRATADO  249336,184\n",
            "...     ...   ...              ...           ...               ...         ...\n",
            "84235  2001   MAI     REGIÃO NORTE          ACRE       ÓLEO DIESEL   20051,914\n",
            "84236  2001   MAR     REGIÃO NORTE      RONDÔNIA       ÓLEO DIESEL   38061,666\n",
            "84237  2001   SET     REGIÃO NORTE      RONDÔNIA       ÓLEO DIESEL   58384,106\n",
            "84238  2001   FEV     REGIÃO NORTE      RONDÔNIA       ÓLEO DIESEL   30995,293\n",
            "84239  2001   JAN     REGIÃO NORTE      RONDÔNIA       ÓLEO DIESEL   42405,269\n",
            "\n",
            "[84240 rows x 6 columns]\n"
          ]
        }
      ],
      "source": [
        "dataframe_derivados = pd.read_csv('./bases_diarias/dados_dataset_derivados.csv', sep = ';');\n",
        "dataframe_derivados = dataframe_derivados.rename(columns = {'UNIDADE DA FEDERAÇÃO': 'uf', 'GRANDE REGIÃO': 'region', 'PRODUTO': 'product', 'MÊS': 'month', 'ANO': 'year', 'VENDAS': 'volume'})\n",
        "\n",
        "print(dataframe_derivados)"
      ]
    },
    {
      "cell_type": "markdown",
      "source": [
        "Selecionando colunas do dataframe de derivados a serem utilizadas na análise"
      ],
      "metadata": {
        "id": "voUYeGZNejEx"
      },
      "id": "voUYeGZNejEx"
    },
    {
      "cell_type": "code",
      "execution_count": 14,
      "id": "a97d2aaa",
      "metadata": {
        "colab": {
          "base_uri": "https://localhost:8080/"
        },
        "id": "a97d2aaa",
        "outputId": "9660a437-c055-4cb2-90a0-755ba2983e34"
      },
      "outputs": [
        {
          "output_type": "stream",
          "name": "stdout",
          "text": [
            "                product  year            uf month\n",
            "0      ETANOL HIDRATADO  1999  MINAS GERAIS   NOV\n",
            "1      ETANOL HIDRATADO  1999     SÃO PAULO   FEV\n",
            "2      ETANOL HIDRATADO  1999       SERGIPE   SET\n",
            "3      ETANOL HIDRATADO  1999       SERGIPE   AGO\n",
            "4      ETANOL HIDRATADO  1999     SÃO PAULO   MAI\n",
            "...                 ...   ...           ...   ...\n",
            "84235       ÓLEO DIESEL  2001          ACRE   MAI\n",
            "84236       ÓLEO DIESEL  2001      RONDÔNIA   MAR\n",
            "84237       ÓLEO DIESEL  2001      RONDÔNIA   SET\n",
            "84238       ÓLEO DIESEL  2001      RONDÔNIA   FEV\n",
            "84239       ÓLEO DIESEL  2001      RONDÔNIA   JAN\n",
            "\n",
            "[84240 rows x 4 columns]\n"
          ]
        }
      ],
      "source": [
        "dataframe_derivados = dataframe_derivados[['product', 'year', 'uf', 'month']]\n",
        "print(dataframe_derivados)"
      ]
    },
    {
      "cell_type": "code",
      "source": [
        "dataframe_derivados['month'] = dataframe_derivados['month'].map({'JAN':'1',\n",
        "                                                                 'FEV' : '2',\n",
        "                                                                 'MAR' : '3',\n",
        "                                                                 'ABR' : '4',\n",
        "                                                                 'MAI' : '5',\n",
        "                                                                 'JUN' : '6',\n",
        "                                                                 'JUL' : '7',\n",
        "                                                                 'AGO' : '8',\n",
        "                                                                 'SET' : '9',\n",
        "                                                                 'OUT' : '10',\n",
        "                                                                 'NOV' : '11',\n",
        "                                                                 'DEZ' : '12'},\n",
        "                                                                 na_action=None)\n",
        "\n",
        "print(dataframe_derivados)"
      ],
      "metadata": {
        "colab": {
          "base_uri": "https://localhost:8080/"
        },
        "id": "LbpVeJHGhnF8",
        "outputId": "4f1ab68d-d3e1-4bc8-e043-b32dd17c1662"
      },
      "id": "LbpVeJHGhnF8",
      "execution_count": 15,
      "outputs": [
        {
          "output_type": "stream",
          "name": "stdout",
          "text": [
            "                product  year            uf month\n",
            "0      ETANOL HIDRATADO  1999  MINAS GERAIS    11\n",
            "1      ETANOL HIDRATADO  1999     SÃO PAULO     2\n",
            "2      ETANOL HIDRATADO  1999       SERGIPE     9\n",
            "3      ETANOL HIDRATADO  1999       SERGIPE     8\n",
            "4      ETANOL HIDRATADO  1999     SÃO PAULO     5\n",
            "...                 ...   ...           ...   ...\n",
            "84235       ÓLEO DIESEL  2001          ACRE     5\n",
            "84236       ÓLEO DIESEL  2001      RONDÔNIA     3\n",
            "84237       ÓLEO DIESEL  2001      RONDÔNIA     9\n",
            "84238       ÓLEO DIESEL  2001      RONDÔNIA     2\n",
            "84239       ÓLEO DIESEL  2001      RONDÔNIA     1\n",
            "\n",
            "[84240 rows x 4 columns]\n"
          ]
        }
      ]
    },
    {
      "cell_type": "markdown",
      "source": [
        "Carregando a base de dados de diesel e alterando o nome das colunas"
      ],
      "metadata": {
        "id": "LyJ2aR30e8ex"
      },
      "id": "LyJ2aR30e8ex"
    },
    {
      "cell_type": "code",
      "execution_count": 16,
      "id": "f6e2e154",
      "metadata": {
        "colab": {
          "base_uri": "https://localhost:8080/"
        },
        "id": "f6e2e154",
        "outputId": "f6c50720-ecc9-4b98-e9c9-807a0664ce2d"
      },
      "outputs": [
        {
          "output_type": "stream",
          "name": "stdout",
          "text": [
            "       year month        GRANDE REGIÃO                uf  \\\n",
            "0      2013   JAN         REGIÃO NORTE          RONDÔNIA   \n",
            "1      2013   FEV         REGIÃO NORTE          RONDÔNIA   \n",
            "2      2013   MAR         REGIÃO NORTE          RONDÔNIA   \n",
            "3      2013   ABR         REGIÃO NORTE          RONDÔNIA   \n",
            "4      2013   MAI         REGIÃO NORTE          RONDÔNIA   \n",
            "...     ...   ...                  ...               ...   \n",
            "15385  2022   FEV  REGIÃO CENTRO-OESTE  DISTRITO FEDERAL   \n",
            "15386  2022   MAR  REGIÃO CENTRO-OESTE  DISTRITO FEDERAL   \n",
            "15387  2022   ABR  REGIÃO CENTRO-OESTE  DISTRITO FEDERAL   \n",
            "15388  2022   MAI  REGIÃO CENTRO-OESTE  DISTRITO FEDERAL   \n",
            "15389  2022   JUN  REGIÃO CENTRO-OESTE  DISTRITO FEDERAL   \n",
            "\n",
            "                     product   volume  \n",
            "0           ÓLEO DIESEL S-10   3517,6  \n",
            "1           ÓLEO DIESEL S-10   3681,7  \n",
            "2           ÓLEO DIESEL S-10  4700,67  \n",
            "3           ÓLEO DIESEL S-10   5339,2  \n",
            "4           ÓLEO DIESEL S-10   6166,4  \n",
            "...                      ...      ...  \n",
            "15385  ÓLEO DIESEL (OUTROS )       10  \n",
            "15386  ÓLEO DIESEL (OUTROS )       20  \n",
            "15387  ÓLEO DIESEL (OUTROS )       10  \n",
            "15388  ÓLEO DIESEL (OUTROS )       15  \n",
            "15389  ÓLEO DIESEL (OUTROS )       10  \n",
            "\n",
            "[15390 rows x 6 columns]\n"
          ]
        }
      ],
      "source": [
        "dataframe_diesel =pd.read_csv('./bases_diarias/dados_dataset_diesel.csv', sep = ';')\n",
        "dataframe_diesel = dataframe_diesel.rename(columns = { 'UNIDADE DA FEDERAÇÃO': 'uf', 'PRODUTO': 'product', 'MÊS':'month', 'ANO':'year', 'VENDAS': 'volume'})\n",
        "\n",
        "print(dataframe_diesel)"
      ]
    },
    {
      "cell_type": "markdown",
      "source": [
        "Selecionando colunas do dataframe de diesel a serem utilizadas na análise"
      ],
      "metadata": {
        "id": "CcU9QFCGfHB3"
      },
      "id": "CcU9QFCGfHB3"
    },
    {
      "cell_type": "code",
      "execution_count": 17,
      "id": "36a55092",
      "metadata": {
        "colab": {
          "base_uri": "https://localhost:8080/"
        },
        "id": "36a55092",
        "outputId": "e9a35c5c-7f01-4be7-ef76-845756f15e09"
      },
      "outputs": [
        {
          "output_type": "stream",
          "name": "stdout",
          "text": [
            "                     product  year                uf month\n",
            "0           ÓLEO DIESEL S-10  2013          RONDÔNIA   JAN\n",
            "1           ÓLEO DIESEL S-10  2013          RONDÔNIA   FEV\n",
            "2           ÓLEO DIESEL S-10  2013          RONDÔNIA   MAR\n",
            "3           ÓLEO DIESEL S-10  2013          RONDÔNIA   ABR\n",
            "4           ÓLEO DIESEL S-10  2013          RONDÔNIA   MAI\n",
            "...                      ...   ...               ...   ...\n",
            "15385  ÓLEO DIESEL (OUTROS )  2022  DISTRITO FEDERAL   FEV\n",
            "15386  ÓLEO DIESEL (OUTROS )  2022  DISTRITO FEDERAL   MAR\n",
            "15387  ÓLEO DIESEL (OUTROS )  2022  DISTRITO FEDERAL   ABR\n",
            "15388  ÓLEO DIESEL (OUTROS )  2022  DISTRITO FEDERAL   MAI\n",
            "15389  ÓLEO DIESEL (OUTROS )  2022  DISTRITO FEDERAL   JUN\n",
            "\n",
            "[15390 rows x 4 columns]\n"
          ]
        }
      ],
      "source": [
        "dataframe_diesel = dataframe_diesel[['product', 'year', 'uf', 'month']]\n",
        "\n",
        "print(dataframe_diesel)"
      ]
    },
    {
      "cell_type": "code",
      "source": [
        "dataframe_derivados['month'] = dataframe_derivados['month'].map({'JAN':'1',\n",
        "                                                                 'FEV' : '2',\n",
        "                                                                 'MAR' : '3',\n",
        "                                                                 'ABR' : '4',\n",
        "                                                                 'MAI' : '5',\n",
        "                                                                 'JUN' : '6',\n",
        "                                                                 'JUL' : '7',\n",
        "                                                                 'AGO' : '8',\n",
        "                                                                 'SET' : '9',\n",
        "                                                                 'OUT' : '10',\n",
        "                                                                 'NOV' : '11',\n",
        "                                                                 'DEZ' : '12'},\n",
        "                                                                 na_action=None)\n",
        "\n",
        "print(dataframe_derivados)"
      ],
      "metadata": {
        "id": "LGLMGVU5kUJC",
        "colab": {
          "base_uri": "https://localhost:8080/"
        },
        "outputId": "388f68e0-92ce-4842-bb26-f9eec088afad"
      },
      "id": "LGLMGVU5kUJC",
      "execution_count": 18,
      "outputs": [
        {
          "output_type": "stream",
          "name": "stdout",
          "text": [
            "                product  year            uf month\n",
            "0      ETANOL HIDRATADO  1999  MINAS GERAIS   NaN\n",
            "1      ETANOL HIDRATADO  1999     SÃO PAULO   NaN\n",
            "2      ETANOL HIDRATADO  1999       SERGIPE   NaN\n",
            "3      ETANOL HIDRATADO  1999       SERGIPE   NaN\n",
            "4      ETANOL HIDRATADO  1999     SÃO PAULO   NaN\n",
            "...                 ...   ...           ...   ...\n",
            "84235       ÓLEO DIESEL  2001          ACRE   NaN\n",
            "84236       ÓLEO DIESEL  2001      RONDÔNIA   NaN\n",
            "84237       ÓLEO DIESEL  2001      RONDÔNIA   NaN\n",
            "84238       ÓLEO DIESEL  2001      RONDÔNIA   NaN\n",
            "84239       ÓLEO DIESEL  2001      RONDÔNIA   NaN\n",
            "\n",
            "[84240 rows x 4 columns]\n"
          ]
        }
      ]
    }
  ],
  "metadata": {
    "kernelspec": {
      "display_name": "Python 3 (ipykernel)",
      "language": "python",
      "name": "python3"
    },
    "language_info": {
      "codemirror_mode": {
        "name": "ipython",
        "version": 3
      },
      "file_extension": ".py",
      "mimetype": "text/x-python",
      "name": "python",
      "nbconvert_exporter": "python",
      "pygments_lexer": "ipython3",
      "version": "3.8.10"
    },
    "colab": {
      "name": "raizen_atualizacao_de_bases.ipynb",
      "provenance": [],
      "collapsed_sections": [],
      "include_colab_link": true
    }
  },
  "nbformat": 4,
  "nbformat_minor": 5
}